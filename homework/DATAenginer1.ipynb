{
 "cells": [
  {
   "cell_type": "code",
   "execution_count": 25,
   "id": "8f01935b-54a5-42f0-b043-681713c05001",
   "metadata": {},
   "outputs": [
    {
     "name": "stdout",
     "output_type": "stream",
     "text": [
      "customer_one_itemization\n",
      "Customer One Items:\n",
      "Lovely Loveseat. Tufted polyester blend on wood. 32 inches high x 40 inches wide x 30 inches deep. Red or white.Luxurious Lamp. Glass and iron. 36 inches tall. Brown with cream shade.\n",
      "Customer One Total:\n",
      "333.09119999999996\n"
     ]
    }
   ],
   "source": [
    "\n",
    "\n",
    "lovely_loveseat_description = 'Lovely Loveseat. Tufted polyester blend on wood. 32 inches high x 40 inches wide x 30 inches deep. Red or white.'\n",
    "\n",
    "\n",
    "lovely_loveseat_price = 254.00\n",
    "\n",
    "stylish_settee_description = 'Stylish Settee. Faux leather on birch. 29.50 inches high x 54.75 inches wide x 28 inches deep. Black.'\n",
    "\n",
    "stylish_settee_price = 180.50\n",
    "\n",
    "luxurious_lamp_description = 'Luxurious Lamp. Glass and iron. 36 inches tall. Brown with cream shade.'\n",
    "\n",
    "luxurious_lamp_price = 52.15\n",
    "\n",
    "sales_tax = .088\n",
    "\n",
    "customer_one_total = 0\n",
    "\n",
    "customer_one_itemization = lovely_loveseat_description + luxurious_lamp_description\n",
    "\n",
    "customer_one_total = lovely_loveseat_price + luxurious_lamp_price\n",
    "\n",
    "customer_one_tax = customer_one_total * sales_tax\n",
    "\n",
    "customer_one_total = customer_one_total + customer_one_tax\n",
    "\n",
    "print('customer_one_itemization')\n",
    "print('Customer One Items:')\n",
    "print(customer_one_itemization)\n",
    "print(\"Customer One Total:\")\n",
    "print(customer_one_total)\n",
    "\n",
    "\n",
    "\n"
   ]
  }
 ],
 "metadata": {
  "kernelspec": {
   "display_name": "anaconda-panel-2023.05-py310",
   "language": "python",
   "name": "conda-env-anaconda-panel-2023.05-py310-py"
  },
  "language_info": {
   "codemirror_mode": {
    "name": "ipython",
    "version": 3
   },
   "file_extension": ".py",
   "mimetype": "text/x-python",
   "name": "python",
   "nbconvert_exporter": "python",
   "pygments_lexer": "ipython3",
   "version": "3.11.4"
  }
 },
 "nbformat": 4,
 "nbformat_minor": 5
}
