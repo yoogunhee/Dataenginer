{
 "cells": [
  {
   "cell_type": "markdown",
   "metadata": {},
   "source": [
    "## <strong> 10. 웹 스크래핑 </strong>"
   ]
  },
  {
   "cell_type": "markdown",
   "metadata": {},
   "source": [
    "필요한 라이브러리\n",
    "+ ```requests```: HTTP 프로토콜을 통해 HTML 문서를 요청\n",
    "+ ```beautifulsoup4```: HTML 문서로 부터 원하는 데이터 추출"
   ]
  },
  {
   "cell_type": "code",
   "execution_count": 1,
   "metadata": {},
   "outputs": [
    {
     "name": "stdout",
     "output_type": "stream",
     "text": [
      "Defaulting to user installation because normal site-packages is not writeable\n",
      "Looking in links: /usr/share/pip-wheels\n",
      "Requirement already satisfied: requests in /opt/conda/envs/anaconda-2022.05-py39/lib/python3.9/site-packages (2.27.1)\n",
      "Requirement already satisfied: urllib3<1.27,>=1.21.1 in /opt/conda/envs/anaconda-2022.05-py39/lib/python3.9/site-packages (from requests) (1.26.9)\n",
      "Requirement already satisfied: certifi>=2017.4.17 in /opt/conda/envs/anaconda-2022.05-py39/lib/python3.9/site-packages (from requests) (2021.10.8)\n",
      "Requirement already satisfied: idna<4,>=2.5 in /opt/conda/envs/anaconda-2022.05-py39/lib/python3.9/site-packages (from requests) (3.3)\n",
      "Requirement already satisfied: charset-normalizer~=2.0.0 in /opt/conda/envs/anaconda-2022.05-py39/lib/python3.9/site-packages (from requests) (2.0.4)\n",
      "Note: you may need to restart the kernel to use updated packages.\n"
     ]
    }
   ],
   "source": [
    "pip install requests"
   ]
  },
  {
   "cell_type": "code",
   "execution_count": 2,
   "metadata": {},
   "outputs": [
    {
     "name": "stdout",
     "output_type": "stream",
     "text": [
      "Defaulting to user installation because normal site-packages is not writeable\n",
      "Looking in links: /usr/share/pip-wheels\n",
      "Requirement already satisfied: beautifulsoup4 in /opt/conda/envs/anaconda-2022.05-py39/lib/python3.9/site-packages (4.11.1)\n",
      "Requirement already satisfied: soupsieve>1.2 in /opt/conda/envs/anaconda-2022.05-py39/lib/python3.9/site-packages (from beautifulsoup4) (2.3.1)\n",
      "Note: you may need to restart the kernel to use updated packages.\n"
     ]
    }
   ],
   "source": [
    "pip install beautifulsoup4"
   ]
  },
  {
   "cell_type": "code",
   "execution_count": 13,
   "metadata": {},
   "outputs": [],
   "source": [
    "import requests\n",
    "from bs4 import BeautifulSoup"
   ]
  },
  {
   "cell_type": "markdown",
   "metadata": {},
   "source": [
    "### <strong> 예제 1: 메타버스 키워드 검색 및 뉴스 타이틀 추출\n",
    "----"
   ]
  },
  {
   "cell_type": "code",
   "execution_count": 47,
   "metadata": {
    "scrolled": true,
    "tags": []
   },
   "outputs": [
    {
     "ename": "ProxyError",
     "evalue": "HTTPSConnectionPool(host='www.yna.co.kr', port=443): Max retries exceeded with url: /view/AKR20231030020100371?input=1195m (Caused by ProxyError('Cannot connect to proxy.', OSError('Tunnel connection failed: 403 Forbidden')))",
     "output_type": "error",
     "traceback": [
      "\u001b[0;31m---------------------------------------------------------------------------\u001b[0m",
      "\u001b[0;31mOSError\u001b[0m                                   Traceback (most recent call last)",
      "File \u001b[0;32m/opt/conda/envs/anaconda-2022.05-py39/lib/python3.9/site-packages/urllib3/connectionpool.py:700\u001b[0m, in \u001b[0;36mHTTPConnectionPool.urlopen\u001b[0;34m(self, method, url, body, headers, retries, redirect, assert_same_host, timeout, pool_timeout, release_conn, chunked, body_pos, **response_kw)\u001b[0m\n\u001b[1;32m    699\u001b[0m \u001b[38;5;28;01mif\u001b[39;00m is_new_proxy_conn \u001b[38;5;129;01mand\u001b[39;00m http_tunnel_required:\n\u001b[0;32m--> 700\u001b[0m     \u001b[38;5;28;43mself\u001b[39;49m\u001b[38;5;241;43m.\u001b[39;49m\u001b[43m_prepare_proxy\u001b[49m\u001b[43m(\u001b[49m\u001b[43mconn\u001b[49m\u001b[43m)\u001b[49m\n\u001b[1;32m    702\u001b[0m \u001b[38;5;66;03m# Make the request on the httplib connection object.\u001b[39;00m\n",
      "File \u001b[0;32m/opt/conda/envs/anaconda-2022.05-py39/lib/python3.9/site-packages/urllib3/connectionpool.py:994\u001b[0m, in \u001b[0;36mHTTPSConnectionPool._prepare_proxy\u001b[0;34m(self, conn)\u001b[0m\n\u001b[1;32m    992\u001b[0m     conn\u001b[38;5;241m.\u001b[39mtls_in_tls_required \u001b[38;5;241m=\u001b[39m \u001b[38;5;28;01mTrue\u001b[39;00m\n\u001b[0;32m--> 994\u001b[0m \u001b[43mconn\u001b[49m\u001b[38;5;241;43m.\u001b[39;49m\u001b[43mconnect\u001b[49m\u001b[43m(\u001b[49m\u001b[43m)\u001b[49m\n",
      "File \u001b[0;32m/opt/conda/envs/anaconda-2022.05-py39/lib/python3.9/site-packages/urllib3/connection.py:369\u001b[0m, in \u001b[0;36mHTTPSConnection.connect\u001b[0;34m(self)\u001b[0m\n\u001b[1;32m    367\u001b[0m \u001b[38;5;66;03m# Calls self._set_hostport(), so self.host is\u001b[39;00m\n\u001b[1;32m    368\u001b[0m \u001b[38;5;66;03m# self._tunnel_host below.\u001b[39;00m\n\u001b[0;32m--> 369\u001b[0m \u001b[38;5;28;43mself\u001b[39;49m\u001b[38;5;241;43m.\u001b[39;49m\u001b[43m_tunnel\u001b[49m\u001b[43m(\u001b[49m\u001b[43m)\u001b[49m\n\u001b[1;32m    370\u001b[0m \u001b[38;5;66;03m# Mark this connection as not reusable\u001b[39;00m\n",
      "File \u001b[0;32m/opt/conda/envs/anaconda-2022.05-py39/lib/python3.9/http/client.py:930\u001b[0m, in \u001b[0;36mHTTPConnection._tunnel\u001b[0;34m(self)\u001b[0m\n\u001b[1;32m    929\u001b[0m     \u001b[38;5;28mself\u001b[39m\u001b[38;5;241m.\u001b[39mclose()\n\u001b[0;32m--> 930\u001b[0m     \u001b[38;5;28;01mraise\u001b[39;00m \u001b[38;5;167;01mOSError\u001b[39;00m(\u001b[38;5;124mf\u001b[39m\u001b[38;5;124m\"\u001b[39m\u001b[38;5;124mTunnel connection failed: \u001b[39m\u001b[38;5;132;01m{\u001b[39;00mcode\u001b[38;5;132;01m}\u001b[39;00m\u001b[38;5;124m \u001b[39m\u001b[38;5;132;01m{\u001b[39;00mmessage\u001b[38;5;241m.\u001b[39mstrip()\u001b[38;5;132;01m}\u001b[39;00m\u001b[38;5;124m\"\u001b[39m)\n\u001b[1;32m    931\u001b[0m \u001b[38;5;28;01mwhile\u001b[39;00m \u001b[38;5;28;01mTrue\u001b[39;00m:\n",
      "\u001b[0;31mOSError\u001b[0m: Tunnel connection failed: 403 Forbidden",
      "\nDuring handling of the above exception, another exception occurred:\n",
      "\u001b[0;31mMaxRetryError\u001b[0m                             Traceback (most recent call last)",
      "File \u001b[0;32m/opt/conda/envs/anaconda-2022.05-py39/lib/python3.9/site-packages/requests/adapters.py:440\u001b[0m, in \u001b[0;36mHTTPAdapter.send\u001b[0;34m(self, request, stream, timeout, verify, cert, proxies)\u001b[0m\n\u001b[1;32m    439\u001b[0m \u001b[38;5;28;01mif\u001b[39;00m \u001b[38;5;129;01mnot\u001b[39;00m chunked:\n\u001b[0;32m--> 440\u001b[0m     resp \u001b[38;5;241m=\u001b[39m \u001b[43mconn\u001b[49m\u001b[38;5;241;43m.\u001b[39;49m\u001b[43murlopen\u001b[49m\u001b[43m(\u001b[49m\n\u001b[1;32m    441\u001b[0m \u001b[43m        \u001b[49m\u001b[43mmethod\u001b[49m\u001b[38;5;241;43m=\u001b[39;49m\u001b[43mrequest\u001b[49m\u001b[38;5;241;43m.\u001b[39;49m\u001b[43mmethod\u001b[49m\u001b[43m,\u001b[49m\n\u001b[1;32m    442\u001b[0m \u001b[43m        \u001b[49m\u001b[43murl\u001b[49m\u001b[38;5;241;43m=\u001b[39;49m\u001b[43murl\u001b[49m\u001b[43m,\u001b[49m\n\u001b[1;32m    443\u001b[0m \u001b[43m        \u001b[49m\u001b[43mbody\u001b[49m\u001b[38;5;241;43m=\u001b[39;49m\u001b[43mrequest\u001b[49m\u001b[38;5;241;43m.\u001b[39;49m\u001b[43mbody\u001b[49m\u001b[43m,\u001b[49m\n\u001b[1;32m    444\u001b[0m \u001b[43m        \u001b[49m\u001b[43mheaders\u001b[49m\u001b[38;5;241;43m=\u001b[39;49m\u001b[43mrequest\u001b[49m\u001b[38;5;241;43m.\u001b[39;49m\u001b[43mheaders\u001b[49m\u001b[43m,\u001b[49m\n\u001b[1;32m    445\u001b[0m \u001b[43m        \u001b[49m\u001b[43mredirect\u001b[49m\u001b[38;5;241;43m=\u001b[39;49m\u001b[38;5;28;43;01mFalse\u001b[39;49;00m\u001b[43m,\u001b[49m\n\u001b[1;32m    446\u001b[0m \u001b[43m        \u001b[49m\u001b[43massert_same_host\u001b[49m\u001b[38;5;241;43m=\u001b[39;49m\u001b[38;5;28;43;01mFalse\u001b[39;49;00m\u001b[43m,\u001b[49m\n\u001b[1;32m    447\u001b[0m \u001b[43m        \u001b[49m\u001b[43mpreload_content\u001b[49m\u001b[38;5;241;43m=\u001b[39;49m\u001b[38;5;28;43;01mFalse\u001b[39;49;00m\u001b[43m,\u001b[49m\n\u001b[1;32m    448\u001b[0m \u001b[43m        \u001b[49m\u001b[43mdecode_content\u001b[49m\u001b[38;5;241;43m=\u001b[39;49m\u001b[38;5;28;43;01mFalse\u001b[39;49;00m\u001b[43m,\u001b[49m\n\u001b[1;32m    449\u001b[0m \u001b[43m        \u001b[49m\u001b[43mretries\u001b[49m\u001b[38;5;241;43m=\u001b[39;49m\u001b[38;5;28;43mself\u001b[39;49m\u001b[38;5;241;43m.\u001b[39;49m\u001b[43mmax_retries\u001b[49m\u001b[43m,\u001b[49m\n\u001b[1;32m    450\u001b[0m \u001b[43m        \u001b[49m\u001b[43mtimeout\u001b[49m\u001b[38;5;241;43m=\u001b[39;49m\u001b[43mtimeout\u001b[49m\n\u001b[1;32m    451\u001b[0m \u001b[43m    \u001b[49m\u001b[43m)\u001b[49m\n\u001b[1;32m    453\u001b[0m \u001b[38;5;66;03m# Send the request.\u001b[39;00m\n\u001b[1;32m    454\u001b[0m \u001b[38;5;28;01melse\u001b[39;00m:\n",
      "File \u001b[0;32m/opt/conda/envs/anaconda-2022.05-py39/lib/python3.9/site-packages/urllib3/connectionpool.py:785\u001b[0m, in \u001b[0;36mHTTPConnectionPool.urlopen\u001b[0;34m(self, method, url, body, headers, retries, redirect, assert_same_host, timeout, pool_timeout, release_conn, chunked, body_pos, **response_kw)\u001b[0m\n\u001b[1;32m    783\u001b[0m     e \u001b[38;5;241m=\u001b[39m ProtocolError(\u001b[38;5;124m\"\u001b[39m\u001b[38;5;124mConnection aborted.\u001b[39m\u001b[38;5;124m\"\u001b[39m, e)\n\u001b[0;32m--> 785\u001b[0m retries \u001b[38;5;241m=\u001b[39m \u001b[43mretries\u001b[49m\u001b[38;5;241;43m.\u001b[39;49m\u001b[43mincrement\u001b[49m\u001b[43m(\u001b[49m\n\u001b[1;32m    786\u001b[0m \u001b[43m    \u001b[49m\u001b[43mmethod\u001b[49m\u001b[43m,\u001b[49m\u001b[43m \u001b[49m\u001b[43murl\u001b[49m\u001b[43m,\u001b[49m\u001b[43m \u001b[49m\u001b[43merror\u001b[49m\u001b[38;5;241;43m=\u001b[39;49m\u001b[43me\u001b[49m\u001b[43m,\u001b[49m\u001b[43m \u001b[49m\u001b[43m_pool\u001b[49m\u001b[38;5;241;43m=\u001b[39;49m\u001b[38;5;28;43mself\u001b[39;49m\u001b[43m,\u001b[49m\u001b[43m \u001b[49m\u001b[43m_stacktrace\u001b[49m\u001b[38;5;241;43m=\u001b[39;49m\u001b[43msys\u001b[49m\u001b[38;5;241;43m.\u001b[39;49m\u001b[43mexc_info\u001b[49m\u001b[43m(\u001b[49m\u001b[43m)\u001b[49m\u001b[43m[\u001b[49m\u001b[38;5;241;43m2\u001b[39;49m\u001b[43m]\u001b[49m\n\u001b[1;32m    787\u001b[0m \u001b[43m\u001b[49m\u001b[43m)\u001b[49m\n\u001b[1;32m    788\u001b[0m retries\u001b[38;5;241m.\u001b[39msleep()\n",
      "File \u001b[0;32m/opt/conda/envs/anaconda-2022.05-py39/lib/python3.9/site-packages/urllib3/util/retry.py:592\u001b[0m, in \u001b[0;36mRetry.increment\u001b[0;34m(self, method, url, response, error, _pool, _stacktrace)\u001b[0m\n\u001b[1;32m    591\u001b[0m \u001b[38;5;28;01mif\u001b[39;00m new_retry\u001b[38;5;241m.\u001b[39mis_exhausted():\n\u001b[0;32m--> 592\u001b[0m     \u001b[38;5;28;01mraise\u001b[39;00m MaxRetryError(_pool, url, error \u001b[38;5;129;01mor\u001b[39;00m ResponseError(cause))\n\u001b[1;32m    594\u001b[0m log\u001b[38;5;241m.\u001b[39mdebug(\u001b[38;5;124m\"\u001b[39m\u001b[38;5;124mIncremented Retry for (url=\u001b[39m\u001b[38;5;124m'\u001b[39m\u001b[38;5;132;01m%s\u001b[39;00m\u001b[38;5;124m'\u001b[39m\u001b[38;5;124m): \u001b[39m\u001b[38;5;132;01m%r\u001b[39;00m\u001b[38;5;124m\"\u001b[39m, url, new_retry)\n",
      "\u001b[0;31mMaxRetryError\u001b[0m: HTTPSConnectionPool(host='www.yna.co.kr', port=443): Max retries exceeded with url: /view/AKR20231030020100371?input=1195m (Caused by ProxyError('Cannot connect to proxy.', OSError('Tunnel connection failed: 403 Forbidden')))",
      "\nDuring handling of the above exception, another exception occurred:\n",
      "\u001b[0;31mProxyError\u001b[0m                                Traceback (most recent call last)",
      "Input \u001b[0;32mIn [47]\u001b[0m, in \u001b[0;36m<cell line: 4>\u001b[0;34m()\u001b[0m\n\u001b[1;32m      2\u001b[0m url \u001b[38;5;241m=\u001b[39m \u001b[38;5;124m'\u001b[39m\u001b[38;5;124mhttps://www.yna.co.kr/view/AKR20231030020100371?input=1195m\u001b[39m\u001b[38;5;124m'\u001b[39m\n\u001b[1;32m      3\u001b[0m \u001b[38;5;66;03m# [+] HTTP GET Request로 HTML 문서 받아오기\u001b[39;00m\n\u001b[0;32m----> 4\u001b[0m res \u001b[38;5;241m=\u001b[39m \u001b[43mrequests\u001b[49m\u001b[38;5;241;43m.\u001b[39;49m\u001b[43mget\u001b[49m\u001b[43m(\u001b[49m\u001b[43murl\u001b[49m\u001b[43m)\u001b[49m\n",
      "File \u001b[0;32m/opt/conda/envs/anaconda-2022.05-py39/lib/python3.9/site-packages/requests/api.py:75\u001b[0m, in \u001b[0;36mget\u001b[0;34m(url, params, **kwargs)\u001b[0m\n\u001b[1;32m     64\u001b[0m \u001b[38;5;28;01mdef\u001b[39;00m \u001b[38;5;21mget\u001b[39m(url, params\u001b[38;5;241m=\u001b[39m\u001b[38;5;28;01mNone\u001b[39;00m, \u001b[38;5;241m*\u001b[39m\u001b[38;5;241m*\u001b[39mkwargs):\n\u001b[1;32m     65\u001b[0m     \u001b[38;5;124mr\u001b[39m\u001b[38;5;124;03m\"\"\"Sends a GET request.\u001b[39;00m\n\u001b[1;32m     66\u001b[0m \n\u001b[1;32m     67\u001b[0m \u001b[38;5;124;03m    :param url: URL for the new :class:`Request` object.\u001b[39;00m\n\u001b[0;32m   (...)\u001b[0m\n\u001b[1;32m     72\u001b[0m \u001b[38;5;124;03m    :rtype: requests.Response\u001b[39;00m\n\u001b[1;32m     73\u001b[0m \u001b[38;5;124;03m    \"\"\"\u001b[39;00m\n\u001b[0;32m---> 75\u001b[0m     \u001b[38;5;28;01mreturn\u001b[39;00m \u001b[43mrequest\u001b[49m\u001b[43m(\u001b[49m\u001b[38;5;124;43m'\u001b[39;49m\u001b[38;5;124;43mget\u001b[39;49m\u001b[38;5;124;43m'\u001b[39;49m\u001b[43m,\u001b[49m\u001b[43m \u001b[49m\u001b[43murl\u001b[49m\u001b[43m,\u001b[49m\u001b[43m \u001b[49m\u001b[43mparams\u001b[49m\u001b[38;5;241;43m=\u001b[39;49m\u001b[43mparams\u001b[49m\u001b[43m,\u001b[49m\u001b[43m \u001b[49m\u001b[38;5;241;43m*\u001b[39;49m\u001b[38;5;241;43m*\u001b[39;49m\u001b[43mkwargs\u001b[49m\u001b[43m)\u001b[49m\n",
      "File \u001b[0;32m/opt/conda/envs/anaconda-2022.05-py39/lib/python3.9/site-packages/requests/api.py:61\u001b[0m, in \u001b[0;36mrequest\u001b[0;34m(method, url, **kwargs)\u001b[0m\n\u001b[1;32m     57\u001b[0m \u001b[38;5;66;03m# By using the 'with' statement we are sure the session is closed, thus we\u001b[39;00m\n\u001b[1;32m     58\u001b[0m \u001b[38;5;66;03m# avoid leaving sockets open which can trigger a ResourceWarning in some\u001b[39;00m\n\u001b[1;32m     59\u001b[0m \u001b[38;5;66;03m# cases, and look like a memory leak in others.\u001b[39;00m\n\u001b[1;32m     60\u001b[0m \u001b[38;5;28;01mwith\u001b[39;00m sessions\u001b[38;5;241m.\u001b[39mSession() \u001b[38;5;28;01mas\u001b[39;00m session:\n\u001b[0;32m---> 61\u001b[0m     \u001b[38;5;28;01mreturn\u001b[39;00m \u001b[43msession\u001b[49m\u001b[38;5;241;43m.\u001b[39;49m\u001b[43mrequest\u001b[49m\u001b[43m(\u001b[49m\u001b[43mmethod\u001b[49m\u001b[38;5;241;43m=\u001b[39;49m\u001b[43mmethod\u001b[49m\u001b[43m,\u001b[49m\u001b[43m \u001b[49m\u001b[43murl\u001b[49m\u001b[38;5;241;43m=\u001b[39;49m\u001b[43murl\u001b[49m\u001b[43m,\u001b[49m\u001b[43m \u001b[49m\u001b[38;5;241;43m*\u001b[39;49m\u001b[38;5;241;43m*\u001b[39;49m\u001b[43mkwargs\u001b[49m\u001b[43m)\u001b[49m\n",
      "File \u001b[0;32m/opt/conda/envs/anaconda-2022.05-py39/lib/python3.9/site-packages/requests/sessions.py:529\u001b[0m, in \u001b[0;36mSession.request\u001b[0;34m(self, method, url, params, data, headers, cookies, files, auth, timeout, allow_redirects, proxies, hooks, stream, verify, cert, json)\u001b[0m\n\u001b[1;32m    524\u001b[0m send_kwargs \u001b[38;5;241m=\u001b[39m {\n\u001b[1;32m    525\u001b[0m     \u001b[38;5;124m'\u001b[39m\u001b[38;5;124mtimeout\u001b[39m\u001b[38;5;124m'\u001b[39m: timeout,\n\u001b[1;32m    526\u001b[0m     \u001b[38;5;124m'\u001b[39m\u001b[38;5;124mallow_redirects\u001b[39m\u001b[38;5;124m'\u001b[39m: allow_redirects,\n\u001b[1;32m    527\u001b[0m }\n\u001b[1;32m    528\u001b[0m send_kwargs\u001b[38;5;241m.\u001b[39mupdate(settings)\n\u001b[0;32m--> 529\u001b[0m resp \u001b[38;5;241m=\u001b[39m \u001b[38;5;28;43mself\u001b[39;49m\u001b[38;5;241;43m.\u001b[39;49m\u001b[43msend\u001b[49m\u001b[43m(\u001b[49m\u001b[43mprep\u001b[49m\u001b[43m,\u001b[49m\u001b[43m \u001b[49m\u001b[38;5;241;43m*\u001b[39;49m\u001b[38;5;241;43m*\u001b[39;49m\u001b[43msend_kwargs\u001b[49m\u001b[43m)\u001b[49m\n\u001b[1;32m    531\u001b[0m \u001b[38;5;28;01mreturn\u001b[39;00m resp\n",
      "File \u001b[0;32m/opt/conda/envs/anaconda-2022.05-py39/lib/python3.9/site-packages/requests/sessions.py:645\u001b[0m, in \u001b[0;36mSession.send\u001b[0;34m(self, request, **kwargs)\u001b[0m\n\u001b[1;32m    642\u001b[0m start \u001b[38;5;241m=\u001b[39m preferred_clock()\n\u001b[1;32m    644\u001b[0m \u001b[38;5;66;03m# Send the request\u001b[39;00m\n\u001b[0;32m--> 645\u001b[0m r \u001b[38;5;241m=\u001b[39m \u001b[43madapter\u001b[49m\u001b[38;5;241;43m.\u001b[39;49m\u001b[43msend\u001b[49m\u001b[43m(\u001b[49m\u001b[43mrequest\u001b[49m\u001b[43m,\u001b[49m\u001b[43m \u001b[49m\u001b[38;5;241;43m*\u001b[39;49m\u001b[38;5;241;43m*\u001b[39;49m\u001b[43mkwargs\u001b[49m\u001b[43m)\u001b[49m\n\u001b[1;32m    647\u001b[0m \u001b[38;5;66;03m# Total elapsed time of the request (approximately)\u001b[39;00m\n\u001b[1;32m    648\u001b[0m elapsed \u001b[38;5;241m=\u001b[39m preferred_clock() \u001b[38;5;241m-\u001b[39m start\n",
      "File \u001b[0;32m/opt/conda/envs/anaconda-2022.05-py39/lib/python3.9/site-packages/requests/adapters.py:513\u001b[0m, in \u001b[0;36mHTTPAdapter.send\u001b[0;34m(self, request, stream, timeout, verify, cert, proxies)\u001b[0m\n\u001b[1;32m    510\u001b[0m     \u001b[38;5;28;01mraise\u001b[39;00m RetryError(e, request\u001b[38;5;241m=\u001b[39mrequest)\n\u001b[1;32m    512\u001b[0m \u001b[38;5;28;01mif\u001b[39;00m \u001b[38;5;28misinstance\u001b[39m(e\u001b[38;5;241m.\u001b[39mreason, _ProxyError):\n\u001b[0;32m--> 513\u001b[0m     \u001b[38;5;28;01mraise\u001b[39;00m ProxyError(e, request\u001b[38;5;241m=\u001b[39mrequest)\n\u001b[1;32m    515\u001b[0m \u001b[38;5;28;01mif\u001b[39;00m \u001b[38;5;28misinstance\u001b[39m(e\u001b[38;5;241m.\u001b[39mreason, _SSLError):\n\u001b[1;32m    516\u001b[0m     \u001b[38;5;66;03m# This branch is for urllib3 v1.22 and later.\u001b[39;00m\n\u001b[1;32m    517\u001b[0m     \u001b[38;5;28;01mraise\u001b[39;00m SSLError(e, request\u001b[38;5;241m=\u001b[39mrequest)\n",
      "\u001b[0;31mProxyError\u001b[0m: HTTPSConnectionPool(host='www.yna.co.kr', port=443): Max retries exceeded with url: /view/AKR20231030020100371?input=1195m (Caused by ProxyError('Cannot connect to proxy.', OSError('Tunnel connection failed: 403 Forbidden')))"
     ]
    }
   ],
   "source": [
    "# 웹페이지 주소\n",
    "url = 'https://www.yna.co.kr/view/AKR20231030020100371?input=1195m'\n",
    "# [+] HTTP GET Request로 HTML 문서 받아오기\n",
    "res = requests.get(url)"
   ]
  },
  {
   "cell_type": "code",
   "execution_count": null,
   "metadata": {},
   "outputs": [],
   "source": [
    "# [+] HTML 문서로부터 텍스트 데이터 덩어리 추출\n",
    "html_doc = res.text\n",
    "html_doc"
   ]
  },
  {
   "cell_type": "markdown",
   "metadata": {},
   "source": [
    "#### <strong> BeautifulSoup 파서 사용하기</strong>\n",
    "+ ```html.parser```: HTML 문서 전용 파서\n",
    "+ ```xml```: XML 문서 전용 파서"
   ]
  },
  {
   "cell_type": "code",
   "execution_count": 23,
   "metadata": {
    "scrolled": true,
    "tags": []
   },
   "outputs": [],
   "source": [
    "# [+] Beautiful Soup에서 제공하는 HTML 파서 생성\n",
    "soup = BeautifulSoup(html_doc,'html.parser')"
   ]
  },
  {
   "cell_type": "markdown",
   "metadata": {},
   "source": [
    "```BeautifulSoup.prettify()```: 문서 정보를 시각적으로 보기 좋게 재구조화"
   ]
  },
  {
   "cell_type": "code",
   "execution_count": null,
   "metadata": {},
   "outputs": [],
   "source": [
    "print(soup.prettify())"
   ]
  },
  {
   "cell_type": "markdown",
   "metadata": {},
   "source": [
    "`BeautifulSoup.find_all()`: 특정 태그 정보들을 검색"
   ]
  },
  {
   "cell_type": "code",
   "execution_count": 25,
   "metadata": {
    "scrolled": true,
    "tags": []
   },
   "outputs": [
    {
     "data": {
      "text/plain": [
       "[<a href=\"/?sa=X&amp;ved=0ahUKEwi-vtHWop-CAxX1UjUKHWfJAkcQOwgC\"><span class=\"V6gwVd\">G</span><span class=\"iWkuvd\">o</span><span class=\"cDrQ7\">o</span><span class=\"V6gwVd\">g</span><span class=\"ntlR9\">l</span><span class=\"iWkuvd tJ3Myc\">e</span></a>,\n",
       " <a href=\"/search?q=%EB%A9%94%ED%83%80%EB%B2%84%EC%8A%A4&amp;sca_esv=578022390&amp;ie=UTF-8&amp;gbv=1&amp;sei=nWpAZf77KPWl1QHnkou4BA\">here</a>,\n",
       " <a class=\"eZt8xd\" href=\"/search?q=%EB%A9%94%ED%83%80%EB%B2%84%EC%8A%A4&amp;sca_esv=578022390&amp;ie=UTF-8&amp;tbm=nws&amp;source=lnms&amp;sa=X&amp;ved=0ahUKEwi-vtHWop-CAxX1UjUKHWfJAkcQ_AUIBigB\">News</a>,\n",
       " <a class=\"eZt8xd\" href=\"/search?q=%EB%A9%94%ED%83%80%EB%B2%84%EC%8A%A4&amp;sca_esv=578022390&amp;ie=UTF-8&amp;tbm=isch&amp;source=lnms&amp;sa=X&amp;ved=0ahUKEwi-vtHWop-CAxX1UjUKHWfJAkcQ_AUIBygC\">Images</a>,\n",
       " <a class=\"eZt8xd\" href=\"/search?q=%EB%A9%94%ED%83%80%EB%B2%84%EC%8A%A4&amp;sca_esv=578022390&amp;ie=UTF-8&amp;tbm=vid&amp;source=lnms&amp;sa=X&amp;ved=0ahUKEwi-vtHWop-CAxX1UjUKHWfJAkcQ_AUICCgD\">Videos</a>,\n",
       " <a href=\"https://maps.google.com/maps?q=%EB%A9%94%ED%83%80%EB%B2%84%EC%8A%A4&amp;sca_esv=578022390&amp;sxsrf=AM9HkKlhsi2xKwZwqs251O2aqT9YHpC60g:1698720398399&amp;iflsig=AO6bgOgAAAAAZUB4nrx165Yu5Q72-iElzE3IB_GrP-Iw&amp;uact=5&amp;gs_lp=Egdnd3Mtd2l6IgzrqZTtg4DrsoTsiqQyCxAAGIAEGLEDGIMBMgsQABiABBixAxiDATILEAAYgAQYsQMYgwEyBRAAGIAEMgsQLhiABBjHARivATIFEAAYgAQyBRAAGIAEMgUQABiABDIFEAAYgAQyBRAAGIAESIsSUJYGWPEQcAV4AJABA5gBhgGgAYgIqgEDMC45uAEDyAEA-AEBqAIKwgIHECMY6gIYJ8ICBBAjGCfCAhEQLhiABBixAxiDARjHARjRA8ICBBAAGAPCAgcQIxiKBRgnwgIIEAAYgAQYsQPCAgsQLhiABBixAxiDAQ&amp;um=1&amp;ie=UTF-8&amp;sa=X&amp;ved=0ahUKEwi-vtHWop-CAxX1UjUKHWfJAkcQ_AUICSgE\">Maps</a>,\n",
       " <a href=\"/search?q=%EB%A9%94%ED%83%80%EB%B2%84%EC%8A%A4&amp;sca_esv=578022390&amp;ie=UTF-8&amp;tbm=shop&amp;source=lnms&amp;sa=X&amp;ved=0ahUKEwi-vtHWop-CAxX1UjUKHWfJAkcQ_AUICigF\">Shopping</a>,\n",
       " <a href=\"/search?q=%EB%A9%94%ED%83%80%EB%B2%84%EC%8A%A4&amp;sca_esv=578022390&amp;ie=UTF-8&amp;tbm=bks&amp;source=lnms&amp;sa=X&amp;ved=0ahUKEwi-vtHWop-CAxX1UjUKHWfJAkcQ_AUICygG\">Books</a>,\n",
       " <a href=\"/advanced_search\" id=\"st-toggle\" role=\"button\" style=\"white-space:nowrap\">Search tools</a>,\n",
       " <a href=\"/search?q=%EB%A9%94%ED%83%80%EB%B2%84%EC%8A%A4&amp;sca_esv=578022390&amp;ie=UTF-8&amp;source=lnt&amp;tbs=qdr:h&amp;sa=X&amp;ved=0ahUKEwi-vtHWop-CAxX1UjUKHWfJAkcQpwUIDQ\">Past hour</a>,\n",
       " <a href=\"/search?q=%EB%A9%94%ED%83%80%EB%B2%84%EC%8A%A4&amp;sca_esv=578022390&amp;ie=UTF-8&amp;source=lnt&amp;tbs=qdr:d&amp;sa=X&amp;ved=0ahUKEwi-vtHWop-CAxX1UjUKHWfJAkcQpwUIDg\">Past 24 hours</a>,\n",
       " <a href=\"/search?q=%EB%A9%94%ED%83%80%EB%B2%84%EC%8A%A4&amp;sca_esv=578022390&amp;ie=UTF-8&amp;source=lnt&amp;tbs=qdr:w&amp;sa=X&amp;ved=0ahUKEwi-vtHWop-CAxX1UjUKHWfJAkcQpwUIDw\">Past week</a>,\n",
       " <a href=\"/search?q=%EB%A9%94%ED%83%80%EB%B2%84%EC%8A%A4&amp;sca_esv=578022390&amp;ie=UTF-8&amp;source=lnt&amp;tbs=qdr:m&amp;sa=X&amp;ved=0ahUKEwi-vtHWop-CAxX1UjUKHWfJAkcQpwUIEA\">Past month</a>,\n",
       " <a href=\"/search?q=%EB%A9%94%ED%83%80%EB%B2%84%EC%8A%A4&amp;sca_esv=578022390&amp;ie=UTF-8&amp;source=lnt&amp;tbs=qdr:y&amp;sa=X&amp;ved=0ahUKEwi-vtHWop-CAxX1UjUKHWfJAkcQpwUIEQ\">Past year</a>,\n",
       " <a href=\"/search?q=%EB%A9%94%ED%83%80%EB%B2%84%EC%8A%A4&amp;sca_esv=578022390&amp;ie=UTF-8&amp;source=lnt&amp;tbs=li:1&amp;sa=X&amp;ved=0ahUKEwi-vtHWop-CAxX1UjUKHWfJAkcQpwUIEw\">Verbatim</a>,\n",
       " <a data-ved=\"2ahUKEwi-vtHWop-CAxX1UjUKHWfJAkcQFnoECAAQAw\" href=\"/url?q=https://ko.wikipedia.org/wiki/%25EB%25A9%2594%25ED%2583%2580%25EB%25B2%2584%25EC%258A%25A4&amp;sa=U&amp;ved=2ahUKEwi-vtHWop-CAxX1UjUKHWfJAkcQFnoECAAQAw&amp;usg=AOvVaw0EbLwejBgSc3Ahks2geiT1\"><span><div class=\"BNeawe vvjwJb AP7Wnd\"><span class=\"rQMQod Xb5VRe\">메타버스 - 위키백과, 우리 모두의 백과사전</span></div></span><span><div class=\"BNeawe UPmit AP7Wnd\">ko.wikipedia.org › wiki › 메타버스</div></span></a>,\n",
       " <a href=\"https://www.google.com/url?q=https://support.google.com/websearch%3Fp%3Dfeatured_snippets%26hl%3Den-US&amp;opi=89978449&amp;usg=AOvVaw2M8SCMBzjmvsKhurArc7_8\"><span class=\"uEec3 AP7Wnd\"><span class=\"r0bn4c rQMQod\">About Featured Snippets</span></span></a>,\n",
       " <a class=\"BVG0Nb\" data-ved=\"2ahUKEwi-vtHWop-CAxX1UjUKHWfJAkcQ9QF6BAgIEAQ\" href=\"/imgres?imgurl=https://www.searchenginejournal.com/wp-content/uploads/2023/04/the-metaverse-what-is-it-2-64412b87eaf6c-sej.png&amp;imgrefurl=https://www.searchenginejournal.com/metaverse/484803/&amp;h=1000&amp;w=1600&amp;tbnid=Bs_eBQj7Yt-z7M&amp;q=%EB%A9%94%ED%83%80%EB%B2%84%EC%8A%A4&amp;tbnh=177&amp;tbnw=284&amp;usg=AI4_-kRed7mgkYGJYe_vit_wyXzEnLiyvw&amp;vet=1&amp;docid=bdLRWnNW_PwyIM&amp;itg=1&amp;sa=X&amp;ved=2ahUKEwi-vtHWop-CAxX1UjUKHWfJAkcQ9QF6BAgIEAQ\"><div><img alt=\"www.searchenginejournal.com/wp-content/uploads/202...\" class=\"WddBJd\" data-deferred=\"1\" id=\"dimg_17\" src=\"data:image/gif;base64,R0lGODlhAQABAIAAAP///////yH5BAEKAAEALAAAAAABAAEAAAICTAEAOw==\" style=\"max-width:none;height:128px;max-height:128px\"/></div></a>,\n",
       " <a class=\"BVG0Nb\" data-ved=\"2ahUKEwi-vtHWop-CAxX1UjUKHWfJAkcQ9QF6BAgIEAY\" href=\"/imgres?imgurl=https://i.ytimg.com/vi/usI18Izqiic/maxresdefault.jpg&amp;imgrefurl=https://www.youtube.com/watch?v%3DusI18Izqiic&amp;h=720&amp;w=1280&amp;tbnid=5oi5GgVfvJ7nUM&amp;q=%EB%A9%94%ED%83%80%EB%B2%84%EC%8A%A4&amp;tbnh=84&amp;tbnw=150&amp;usg=AI4_-kT1mJZsXmI6RNGiottMNIz1g79xFA&amp;vet=1&amp;docid=aYUTnE6Fep5PAM&amp;sa=X&amp;ved=2ahUKEwi-vtHWop-CAxX1UjUKHWfJAkcQ9QF6BAgIEAY\"><div><img alt=\"초등학생도 이해하는 메타버스란 무엇인가 - YouTube\" class=\"WddBJd\" data-deferred=\"1\" id=\"dimg_19\" src=\"data:image/gif;base64,R0lGODlhAQABAIAAAP///////yH5BAEKAAEALAAAAAABAAEAAAICTAEAOw==\" style=\"max-width:none;height:128px;max-height:128px\"/></div></a>,\n",
       " <a class=\"BVG0Nb\" data-ved=\"2ahUKEwi-vtHWop-CAxX1UjUKHWfJAkcQ9QF6BAgIEAg\" href=\"/imgres?imgurl=https://50plus.or.kr/upload/im/2021/10/09f601c6-b95d-4fb3-a3ef-1b00fb2f94d0.png&amp;imgrefurl=https://50plus.or.kr/detail.do?id%3D14658502&amp;h=634&amp;w=988&amp;tbnid=15Z5LqRwsIC7SM&amp;q=%EB%A9%94%ED%83%80%EB%B2%84%EC%8A%A4&amp;tbnh=96&amp;tbnw=149&amp;usg=AI4_-kRLieumfoEH2kdvQqvLJpz3_43pwQ&amp;vet=1&amp;docid=Itgdt3PVIrxvBM&amp;sa=X&amp;ved=2ahUKEwi-vtHWop-CAxX1UjUKHWfJAkcQ9QF6BAgIEAg\"><div><img alt=\"서울시 50플러스포털 | [중부]상상을 현실로! 메타버스(Metaverse)는 ...\" class=\"WddBJd\" data-deferred=\"1\" id=\"dimg_21\" src=\"data:image/gif;base64,R0lGODlhAQABAIAAAP///////yH5BAEKAAEALAAAAAABAAEAAAICTAEAOw==\" style=\"max-width:none;height:128px;max-height:128px\"/></div></a>,\n",
       " <a class=\"BVG0Nb\" data-ved=\"2ahUKEwi-vtHWop-CAxX1UjUKHWfJAkcQ9QF6BAgIEAo\" href=\"/imgres?imgurl=https://i.ytimg.com/vi/u52MLjpj7z4/maxresdefault.jpg&amp;imgrefurl=https://www.youtube.com/watch?v%3Du52MLjpj7z4&amp;h=720&amp;w=1280&amp;tbnid=ktGwkq-6dzz7xM&amp;q=%EB%A9%94%ED%83%80%EB%B2%84%EC%8A%A4&amp;tbnh=84&amp;tbnw=150&amp;usg=AI4_-kSXUJMqWbLvnsI1PWfgt84L6UkLtg&amp;vet=1&amp;docid=mnm_hWV3IQZgjM&amp;sa=X&amp;ved=2ahUKEwi-vtHWop-CAxX1UjUKHWfJAkcQ9QF6BAgIEAo\"><div><img alt=\"메타버스'가 뭐길래…돈 몰리고 범죄 걱정도 / SBS - YouTube\" class=\"WddBJd\" data-deferred=\"1\" id=\"dimg_23\" src=\"data:image/gif;base64,R0lGODlhAQABAIAAAP///////yH5BAEKAAEALAAAAAABAAEAAAICTAEAOw==\" style=\"max-width:none;height:128px;max-height:128px\"/></div></a>,\n",
       " <a class=\"qN9Ked\" data-ved=\"2ahUKEwi-vtHWop-CAxX1UjUKHWfJAkcQ7Al6BAgIEAw\" href=\"https://www.google.com/search?sca_esv=578022390&amp;ie=UTF-8&amp;ei=nWpAZf77KPWl1QHnkou4BA&amp;q=%EB%A9%94%ED%83%80%EB%B2%84%EC%8A%A4&amp;tbm=isch&amp;sa=X&amp;ved=2ahUKEwi-vtHWop-CAxX1UjUKHWfJAkcQ7Al6BAgIEAw\"><button class=\"DXk5Me Qi9Fd\" tabindex=\"-1\"><span class=\"hWHuJ\"><img alt=\"\" class=\"Dk7jOe\" data-deferred=\"1\" id=\"dimg_25\" src=\"data:image/gif;base64,R0lGODlhAQABAIAAAP///////yH5BAEKAAEALAAAAAABAAEAAAICTAEAOw==\" style=\"max-width:24px;max-height:24px\"/></span></button><div class=\"BNeawe ji5jpf tAd8D AP7Wnd\">View all</div></a>,\n",
       " <a data-ved=\"2ahUKEwi-vtHWop-CAxX1UjUKHWfJAkcQmhN6BAgIEA4\" href=\"/url?q=https://en.wikipedia.org/wiki/Metaverse&amp;sa=U&amp;ved=2ahUKEwi-vtHWop-CAxX1UjUKHWfJAkcQmhN6BAgIEA4&amp;usg=AOvVaw1gAOvBjQ167ljb9sVfXTdw\"><span class=\"XLloXe AP7Wnd\">Wikipedia</span></a>,\n",
       " <a data-ved=\"2ahUKEwi-vtHWop-CAxX1UjUKHWfJAkcQFnoECAsQAg\" href=\"/url?q=https://namu.wiki/w/%25EB%25A9%2594%25ED%2583%2580%25EB%25B2%2584%25EC%258A%25A4&amp;sa=U&amp;ved=2ahUKEwi-vtHWop-CAxX1UjUKHWfJAkcQFnoECAsQAg&amp;usg=AOvVaw1vGtHPnTnSbsYTqK_EIQly\"><div class=\"DnJfK\"><div class=\"j039Wc\"><h3 class=\"zBAuLc l97dzf\"><div class=\"BNeawe vvjwJb AP7Wnd\">메타버스 - 나무위키:대문</div></h3></div><div class=\"sCuL3\"><div class=\"BNeawe UPmit AP7Wnd lRVwie\">namu.wiki › 메타버스</div></div></div></a>,\n",
       " <a data-ved=\"2ahUKEwi-vtHWop-CAxX1UjUKHWfJAkcQFnoECAoQAg\" href=\"/url?q=https://www.vice.com/ko/article/93bmyv/what-is-the-metaverse-internet-technology-vr&amp;sa=U&amp;ved=2ahUKEwi-vtHWop-CAxX1UjUKHWfJAkcQFnoECAoQAg&amp;usg=AOvVaw1VOfLosTeHbm--R-V5z4TY\"><div class=\"DnJfK\"><div class=\"j039Wc\"><h3 class=\"zBAuLc l97dzf\"><div class=\"BNeawe vvjwJb AP7Wnd\">메타버스, 아직도 이해 못한 사람들을 위한 총정리 - VICE</div></h3></div><div class=\"sCuL3\"><div class=\"BNeawe UPmit AP7Wnd lRVwie\">www.vice.com › Home › Tech</div></div></div></a>,\n",
       " <a data-ved=\"2ahUKEwi-vtHWop-CAxX1UjUKHWfJAkcQFnoECAwQAg\" href=\"/url?q=https://about.meta.com/ko/metaverse/&amp;sa=U&amp;ved=2ahUKEwi-vtHWop-CAxX1UjUKHWfJAkcQFnoECAwQAg&amp;usg=AOvVaw3BO_rEvnb3f7lYl2wu1I8U\"><div class=\"DnJfK\"><div class=\"j039Wc\"><h3 class=\"zBAuLc l97dzf\"><div class=\"BNeawe vvjwJb AP7Wnd\">디지털 연결의 미래인 메타버스 - Meta</div></h3></div><div class=\"sCuL3\"><div class=\"BNeawe UPmit AP7Wnd lRVwie\">about.meta.com › metaverse</div></div></div></a>,\n",
       " <a data-ved=\"2ahUKEwi-vtHWop-CAxX1UjUKHWfJAkcQFnoECAUQAg\" href=\"/url?q=https://about.meta.com/ko/what-is-the-metaverse/&amp;sa=U&amp;ved=2ahUKEwi-vtHWop-CAxX1UjUKHWfJAkcQFnoECAUQAg&amp;usg=AOvVaw3kbLRNkWZnk09ROVIFNnZR\"><div class=\"DnJfK\"><div class=\"j039Wc\"><h3 class=\"zBAuLc l97dzf\"><div class=\"BNeawe vvjwJb AP7Wnd\">메타버스란? - Meta</div></h3></div><div class=\"sCuL3\"><div class=\"BNeawe UPmit AP7Wnd lRVwie\">about.meta.com › what-is-the-metaverse</div></div></div></a>,\n",
       " <a data-ved=\"2ahUKEwi-vtHWop-CAxX1UjUKHWfJAkcQFnoECAcQAg\" href=\"/url?q=https://50plus.or.kr/detail.do%3Fid%3D14658502&amp;sa=U&amp;ved=2ahUKEwi-vtHWop-CAxX1UjUKHWfJAkcQFnoECAcQAg&amp;usg=AOvVaw2Ch0og6-_Y_ghXekzvzzsq\"><div class=\"DnJfK\"><div class=\"j039Wc\"><h3 class=\"zBAuLc l97dzf\"><div class=\"BNeawe vvjwJb AP7Wnd\">[중부]상상을 현실로! 메타버스(Metaverse)는 어디로 가는 버스인가요?</div></h3></div><div class=\"sCuL3\"><div class=\"BNeawe UPmit AP7Wnd lRVwie\">50plus.or.kr › detail</div></div></div></a>,\n",
       " <a data-ved=\"2ahUKEwi-vtHWop-CAxX1UjUKHWfJAkcQFnoECAMQAg\" href=\"/url?q=https://atic.ac/metaverse/sub1.do&amp;sa=U&amp;ved=2ahUKEwi-vtHWop-CAxX1UjUKHWfJAkcQFnoECAMQAg&amp;usg=AOvVaw0GnpUEyxn8DPNo7zfq_irK\"><div class=\"DnJfK\"><div class=\"j039Wc\"><h3 class=\"zBAuLc l97dzf\"><div class=\"BNeawe vvjwJb AP7Wnd\">메타버스의 특징과 기술</div></h3></div><div class=\"sCuL3\"><div class=\"BNeawe UPmit AP7Wnd lRVwie\">atic.ac › metaverse › sub1</div></div></div></a>,\n",
       " <a data-ved=\"2ahUKEwi-vtHWop-CAxX1UjUKHWfJAkcQFnoECAYQAg\" href=\"/url?q=https://nordvpn.com/ko/blog/metaverse-meaning/&amp;sa=U&amp;ved=2ahUKEwi-vtHWop-CAxX1UjUKHWfJAkcQFnoECAYQAg&amp;usg=AOvVaw3mNoKz4dbomayNtoGzWTdX\"><div class=\"DnJfK\"><div class=\"j039Wc\"><h3 class=\"zBAuLc l97dzf\"><div class=\"BNeawe vvjwJb AP7Wnd\">다가오는 메타버스의 시대: Metaverse의 의미와 활용 방안 - NordVPN</div></h3></div><div class=\"sCuL3\"><div class=\"BNeawe UPmit AP7Wnd lRVwie\">nordvpn.com › blog › metaverse-meaning</div></div></div></a>,\n",
       " <a data-ved=\"2ahUKEwi-vtHWop-CAxX1UjUKHWfJAkcQFnoECAQQAg\" href=\"/url?q=https://zdnet.co.kr/view/%3Fno%3D20230620101438&amp;sa=U&amp;ved=2ahUKEwi-vtHWop-CAxX1UjUKHWfJAkcQFnoECAQQAg&amp;usg=AOvVaw1XUCqPMv_0V3oMktAZDX9y\"><div class=\"DnJfK\"><div class=\"j039Wc\"><h3 class=\"zBAuLc l97dzf\"><div class=\"BNeawe vvjwJb AP7Wnd\">그 많던 메타버스 플랫폼은 어떻게 됐을까 - 지디넷코리아</div></h3></div><div class=\"sCuL3\"><div class=\"BNeawe UPmit AP7Wnd lRVwie\">zdnet.co.kr › view</div></div></div></a>,\n",
       " <a data-ved=\"2ahUKEwi-vtHWop-CAxX1UjUKHWfJAkcQFnoECAkQAg\" href=\"/url?q=https://www.kocca.kr/n_content/vol19/sub/special2.html&amp;sa=U&amp;ved=2ahUKEwi-vtHWop-CAxX1UjUKHWfJAkcQFnoECAkQAg&amp;usg=AOvVaw3wywnGrs2odiZ0FV31neuQ\"><div class=\"DnJfK\"><div class=\"j039Wc\"><h3 class=\"zBAuLc l97dzf\"><div class=\"BNeawe vvjwJb AP7Wnd\">성공하는 메타버스의 3가지 조건 | N콘텐츠 vol.19</div></h3></div><div class=\"sCuL3\"><div class=\"BNeawe UPmit AP7Wnd lRVwie\">www.kocca.kr › n_content › vol19 › sub › special2</div></div></div></a>,\n",
       " <a class=\"Q71vJc\" data-ved=\"2ahUKEwi-vtHWop-CAxX1UjUKHWfJAkcQ1QJ6BAgCEAI\" href=\"/search?sca_esv=578022390&amp;ie=UTF-8&amp;q=%EB%A9%94%ED%83%80%EB%B2%84%EC%8A%A4+%ED%94%8C%EB%9E%AB%ED%8F%BC&amp;sa=X&amp;ved=2ahUKEwi-vtHWop-CAxX1UjUKHWfJAkcQ1QJ6BAgCEAI\"><accordion-entry-search-icon><span class=\"ieB2Dd\"><img alt=\"\" class=\"OEaqif\" data-deferred=\"1\" id=\"dimg_1\" src=\"data:image/gif;base64,R0lGODlhAQABAIAAAP///////yH5BAEKAAEALAAAAAABAAEAAAICTAEAOw==\" style=\"max-width:20px;max-height:20px\"/></span></accordion-entry-search-icon><div class=\"kjGX2\"><span><div class=\"BNeawe s3v9rd AP7Wnd lRVwie\">메타버스 플랫폼</div></span></div></a>,\n",
       " <a class=\"Q71vJc\" data-ved=\"2ahUKEwi-vtHWop-CAxX1UjUKHWfJAkcQ1QJ6BAgCEAQ\" href=\"/search?sca_esv=578022390&amp;ie=UTF-8&amp;q=%EB%A9%94%ED%83%80%EB%B2%84%EC%8A%A4+%EA%B0%9C%EB%85%90&amp;sa=X&amp;ved=2ahUKEwi-vtHWop-CAxX1UjUKHWfJAkcQ1QJ6BAgCEAQ\"><accordion-entry-search-icon><span class=\"ieB2Dd\"><img alt=\"\" class=\"OEaqif\" data-deferred=\"1\" id=\"dimg_3\" src=\"data:image/gif;base64,R0lGODlhAQABAIAAAP///////yH5BAEKAAEALAAAAAABAAEAAAICTAEAOw==\" style=\"max-width:20px;max-height:20px\"/></span></accordion-entry-search-icon><div class=\"kjGX2\"><span><div class=\"BNeawe s3v9rd AP7Wnd lRVwie\">메타버스 개념</div></span></div></a>,\n",
       " <a class=\"Q71vJc\" data-ved=\"2ahUKEwi-vtHWop-CAxX1UjUKHWfJAkcQ1QJ6BAgCEAY\" href=\"/search?sca_esv=578022390&amp;ie=UTF-8&amp;q=%EB%A9%94%ED%83%80%EB%B2%84%EC%8A%A4+%EB%AC%B8%EC%A0%9C%EC%A0%90&amp;sa=X&amp;ved=2ahUKEwi-vtHWop-CAxX1UjUKHWfJAkcQ1QJ6BAgCEAY\"><accordion-entry-search-icon><span class=\"ieB2Dd\"><img alt=\"\" class=\"OEaqif\" data-deferred=\"1\" id=\"dimg_5\" src=\"data:image/gif;base64,R0lGODlhAQABAIAAAP///////yH5BAEKAAEALAAAAAABAAEAAAICTAEAOw==\" style=\"max-width:20px;max-height:20px\"/></span></accordion-entry-search-icon><div class=\"kjGX2\"><span><div class=\"BNeawe s3v9rd AP7Wnd lRVwie\">메타버스 문제점</div></span></div></a>,\n",
       " <a class=\"Q71vJc\" data-ved=\"2ahUKEwi-vtHWop-CAxX1UjUKHWfJAkcQ1QJ6BAgCEAg\" href=\"/search?sca_esv=578022390&amp;ie=UTF-8&amp;q=%EB%A9%94%ED%83%80%EB%B2%84%EC%8A%A4+%EA%B0%80%EC%83%81%ED%98%84%EC%8B%A4&amp;sa=X&amp;ved=2ahUKEwi-vtHWop-CAxX1UjUKHWfJAkcQ1QJ6BAgCEAg\"><accordion-entry-search-icon><span class=\"ieB2Dd\"><img alt=\"\" class=\"OEaqif\" data-deferred=\"1\" id=\"dimg_7\" src=\"data:image/gif;base64,R0lGODlhAQABAIAAAP///////yH5BAEKAAEALAAAAAABAAEAAAICTAEAOw==\" style=\"max-width:20px;max-height:20px\"/></span></accordion-entry-search-icon><div class=\"kjGX2\"><span><div class=\"BNeawe s3v9rd AP7Wnd lRVwie\">메타버스 가상현실</div></span></div></a>,\n",
       " <a class=\"Q71vJc\" data-ved=\"2ahUKEwi-vtHWop-CAxX1UjUKHWfJAkcQ1QJ6BAgCEAo\" href=\"/search?sca_esv=578022390&amp;ie=UTF-8&amp;q=%EB%A9%94%ED%83%80%EB%B2%84%EC%8A%A4+%EC%B1%85&amp;sa=X&amp;ved=2ahUKEwi-vtHWop-CAxX1UjUKHWfJAkcQ1QJ6BAgCEAo\"><accordion-entry-search-icon><span class=\"ieB2Dd\"><img alt=\"\" class=\"OEaqif\" data-deferred=\"1\" id=\"dimg_9\" src=\"data:image/gif;base64,R0lGODlhAQABAIAAAP///////yH5BAEKAAEALAAAAAABAAEAAAICTAEAOw==\" style=\"max-width:20px;max-height:20px\"/></span></accordion-entry-search-icon><div class=\"kjGX2\"><span><div class=\"BNeawe s3v9rd AP7Wnd lRVwie\">메타버스 책</div></span></div></a>,\n",
       " <a class=\"Q71vJc\" data-ved=\"2ahUKEwi-vtHWop-CAxX1UjUKHWfJAkcQ1QJ6BAgCEAw\" href=\"/search?sca_esv=578022390&amp;ie=UTF-8&amp;q=%EB%A9%94%ED%83%80%EB%B2%84%EC%8A%A4+%EA%B2%8C%EC%9E%84&amp;sa=X&amp;ved=2ahUKEwi-vtHWop-CAxX1UjUKHWfJAkcQ1QJ6BAgCEAw\"><accordion-entry-search-icon><span class=\"ieB2Dd\"><img alt=\"\" class=\"OEaqif\" data-deferred=\"1\" id=\"dimg_11\" src=\"data:image/gif;base64,R0lGODlhAQABAIAAAP///////yH5BAEKAAEALAAAAAABAAEAAAICTAEAOw==\" style=\"max-width:20px;max-height:20px\"/></span></accordion-entry-search-icon><div class=\"kjGX2\"><span><div class=\"BNeawe s3v9rd AP7Wnd lRVwie\">메타버스 게임</div></span></div></a>,\n",
       " <a class=\"Q71vJc\" data-ved=\"2ahUKEwi-vtHWop-CAxX1UjUKHWfJAkcQ1QJ6BAgCEA4\" href=\"/search?sca_esv=578022390&amp;ie=UTF-8&amp;q=%EB%A9%94%ED%83%80%EB%B2%84%EC%8A%A4+%ED%99%9C%EC%9A%A9&amp;sa=X&amp;ved=2ahUKEwi-vtHWop-CAxX1UjUKHWfJAkcQ1QJ6BAgCEA4\"><accordion-entry-search-icon><span class=\"ieB2Dd\"><img alt=\"\" class=\"OEaqif\" data-deferred=\"1\" id=\"dimg_13\" src=\"data:image/gif;base64,R0lGODlhAQABAIAAAP///////yH5BAEKAAEALAAAAAABAAEAAAICTAEAOw==\" style=\"max-width:20px;max-height:20px\"/></span></accordion-entry-search-icon><div class=\"kjGX2\"><span><div class=\"BNeawe s3v9rd AP7Wnd lRVwie\">메타버스 활용</div></span></div></a>,\n",
       " <a class=\"Q71vJc\" data-ved=\"2ahUKEwi-vtHWop-CAxX1UjUKHWfJAkcQ1QJ6BAgCEBA\" href=\"/search?sca_esv=578022390&amp;ie=UTF-8&amp;q=%EB%A9%94%ED%83%80%EB%B2%84%EC%8A%A4+%EC%82%AC%EC%9D%B4%ED%8A%B8&amp;sa=X&amp;ved=2ahUKEwi-vtHWop-CAxX1UjUKHWfJAkcQ1QJ6BAgCEBA\"><accordion-entry-search-icon><span class=\"ieB2Dd\"><img alt=\"\" class=\"OEaqif\" data-deferred=\"1\" id=\"dimg_15\" src=\"data:image/gif;base64,R0lGODlhAQABAIAAAP///////yH5BAEKAAEALAAAAAABAAEAAAICTAEAOw==\" style=\"max-width:20px;max-height:20px\"/></span></accordion-entry-search-icon><div class=\"kjGX2\"><span><div class=\"BNeawe s3v9rd AP7Wnd lRVwie\">메타버스 사이트</div></span></div></a>,\n",
       " <a aria-label=\"Next page\" class=\"nBDE1b G5eFlf\" href=\"/search?q=%EB%A9%94%ED%83%80%EB%B2%84%EC%8A%A4&amp;sca_esv=578022390&amp;ie=UTF-8&amp;ei=nWpAZf77KPWl1QHnkou4BA&amp;start=10&amp;sa=N\">Next &gt;</a>,\n",
       " <a aria-label=\"Learn more about this location\" class=\"IffyKc\" href=\"/url?q=https://support.google.com/websearch%3Fp%3Dws_settings_location%26hl%3Den&amp;opi=89978449&amp;sa=U&amp;ved=0ahUKEwi-vtHWop-CAxX1UjUKHWfJAkcQty4IbA&amp;usg=AOvVaw1O6aFvDDkF8BW4OiZcWsxO\" tabindex=\"0\">Learn more</a>,\n",
       " <a href=\"/url?q=https://accounts.google.com/ServiceLogin%3Fcontinue%3Dhttps://www.google.com/search%253Fq%253D%2525EB%2525A9%252594%2525ED%252583%252580%2525EB%2525B2%252584%2525EC%25258A%2525A4%2526sca_esv%253D578022390%2526sxsrf%253DAM9HkKlhsi2xKwZwqs251O2aqT9YHpC60g:1698720398399%2526source%253Dhp%2526ei%253DjmpAZaqaFq7c2roPnrm6oAE%2526iflsig%253DAO6bgOgAAAAAZUB4nrx165Yu5Q72-iElzE3IB_GrP-Iw%2526ved%253D0ahUKEwiqmavPop-CAxUurlYBHZ6cDhQQ4dUDCAw%2526uact%253D5%2526oq%253D%2525EB%2525A9%252594%2525ED%252583%252580%2525EB%2525B2%252584%2525EC%25258A%2525A4%2526gs_lp%253DEgdnd3Mtd2l6IgzrqZTtg4DrsoTsiqQyCxAAGIAEGLEDGIMBMgsQABiABBixAxiDATILEAAYgAQYsQMYgwEyBRAAGIAEMgsQLhiABBjHARivATIFEAAYgAQyBRAAGIAEMgUQABiABDIFEAAYgAQyBRAAGIAESIsSUJYGWPEQcAV4AJABA5gBhgGgAYgIqgEDMC45uAEDyAEA-AEBqAIKwgIHECMY6gIYJ8ICBBAjGCfCAhEQLhiABBixAxiDARjHARjRA8ICBBAAGAPCAgcQIxiKBRgnwgIIEAAYgAQYsQPCAgsQLhiABBixAxiDAQ%2526sclient%253Dgws-wiz%26hl%3Den&amp;opi=89978449&amp;sa=U&amp;ved=0ahUKEwi-vtHWop-CAxX1UjUKHWfJAkcQxs8CCG0&amp;usg=AOvVaw2YB-qxgEm23fqrPfMOZZl_\">Sign in</a>,\n",
       " <a class=\"xeDNfc\" href=\"https://www.google.com/preferences?hl=en&amp;fg=1&amp;sa=X&amp;ved=0ahUKEwi-vtHWop-CAxX1UjUKHWfJAkcQ5fUCCG4\">Settings</a>,\n",
       " <a class=\"xeDNfc\" href=\"https://policies.google.com/privacy?hl=en&amp;fg=1\">Privacy</a>,\n",
       " <a class=\"xeDNfc\" href=\"https://policies.google.com/terms?hl=en&amp;fg=1\">Terms</a>,\n",
       " <a class=\"xeDNfc\" href=\"/setprefs?hl=en&amp;prev=https://www.google.com/search?q%3D%25EB%25A9%2594%25ED%2583%2580%25EB%25B2%2584%25EC%258A%25A4%26sca_esv%3D578022390%26sxsrf%3DAM9HkKlhsi2xKwZwqs251O2aqT9YHpC60g:1698720398399%26source%3Dhp%26ei%3DjmpAZaqaFq7c2roPnrm6oAE%26iflsig%3DAO6bgOgAAAAAZUB4nrx165Yu5Q72-iElzE3IB_GrP-Iw%26ved%3D0ahUKEwiqmavPop-CAxUurlYBHZ6cDhQQ4dUDCAw%26uact%3D5%26oq%3D%25EB%25A9%2594%25ED%2583%2580%25EB%25B2%2584%25EC%258A%25A4%26gs_lp%3DEgdnd3Mtd2l6IgzrqZTtg4DrsoTsiqQyCxAAGIAEGLEDGIMBMgsQABiABBixAxiDATILEAAYgAQYsQMYgwEyBRAAGIAEMgsQLhiABBjHARivATIFEAAYgAQyBRAAGIAEMgUQABiABDIFEAAYgAQyBRAAGIAESIsSUJYGWPEQcAV4AJABA5gBhgGgAYgIqgEDMC45uAEDyAEA-AEBqAIKwgIHECMY6gIYJ8ICBBAjGCfCAhEQLhiABBixAxiDARjHARjRA8ICBBAAGAPCAgcQIxiKBRgnwgIIEAAYgAQYsQPCAgsQLhiABBixAxiDAQ%26sclient%3Dgws-wiz%26pccc%3D1&amp;sig=0_P9qADRqT7S94FKfSkKkZKOa8f1w%3D&amp;cs=2&amp;sa=X&amp;ved=0ahUKEwi-vtHWop-CAxX1UjUKHWfJAkcQjcAJCG8\">Dark theme: Off</a>]"
      ]
     },
     "execution_count": 25,
     "metadata": {},
     "output_type": "execute_result"
    }
   ],
   "source": [
    "# [+] 문서 내에 모든 <a> 태그들을 검색\n",
    "soup.find_all('a')"
   ]
  },
  {
   "cell_type": "code",
   "execution_count": 33,
   "metadata": {
    "scrolled": true,
    "tags": []
   },
   "outputs": [
    {
     "data": {
      "text/plain": [
       "[]"
      ]
     },
     "execution_count": 33,
     "metadata": {},
     "output_type": "execute_result"
    }
   ],
   "source": [
    "# 특정 속성의 <a> 태그들을 검색\n",
    "news = soup.find_all(\"a\", {\"class\":\"adqwcv\"})\n",
    "news"
   ]
  },
  {
   "cell_type": "code",
   "execution_count": null,
   "metadata": {},
   "outputs": [],
   "source": [
    "# 첫 번째 뉴스\n",
    "news[0]"
   ]
  },
  {
   "cell_type": "code",
   "execution_count": null,
   "metadata": {},
   "outputs": [],
   "source": [
    "# [+] 뉴스의 URL 정보 가져오기\n",
    "[news[0].get('href')"
   ]
  },
  {
   "cell_type": "code",
   "execution_count": 49,
   "metadata": {},
   "outputs": [
    {
     "ename": "IndexError",
     "evalue": "list index out of range",
     "output_type": "error",
     "traceback": [
      "\u001b[0;31m---------------------------------------------------------------------------\u001b[0m",
      "\u001b[0;31mIndexError\u001b[0m                                Traceback (most recent call last)",
      "Input \u001b[0;32mIn [49]\u001b[0m, in \u001b[0;36m<cell line: 2>\u001b[0;34m()\u001b[0m\n\u001b[1;32m      1\u001b[0m \u001b[38;5;66;03m# [+] 뉴스의 제목 정보 가져오기\u001b[39;00m\n\u001b[0;32m----> 2\u001b[0m \u001b[43mnews\u001b[49m\u001b[43m[\u001b[49m\u001b[38;5;241;43m0\u001b[39;49m\u001b[43m]\u001b[49m\u001b[38;5;241m.\u001b[39mget(\u001b[38;5;124m'\u001b[39m\u001b[38;5;124mtitle\u001b[39m\u001b[38;5;124m'\u001b[39m)\n",
      "\u001b[0;31mIndexError\u001b[0m: list index out of range"
     ]
    }
   ],
   "source": [
    "# [+] 뉴스의 제목 정보 가져오기\n",
    "news[0].get('title')"
   ]
  },
  {
   "cell_type": "code",
   "execution_count": 51,
   "metadata": {},
   "outputs": [
    {
     "data": {
      "text/plain": [
       "0"
      ]
     },
     "execution_count": 51,
     "metadata": {},
     "output_type": "execute_result"
    }
   ],
   "source": [
    "len(news)"
   ]
  },
  {
   "cell_type": "code",
   "execution_count": 53,
   "metadata": {},
   "outputs": [],
   "source": [
    "# [+] 모든 뉴스의 제목 출력하기\n",
    "for i in range(len(news)):\n",
    "    print(news[i].get('title'))"
   ]
  },
  {
   "cell_type": "code",
   "execution_count": null,
   "metadata": {},
   "outputs": [],
   "source": []
  }
 ],
 "metadata": {
  "kernelspec": {
   "display_name": "anaconda-2022.05-py39",
   "language": "python",
   "name": "conda-env-anaconda-2022.05-py39-py"
  },
  "language_info": {
   "codemirror_mode": {
    "name": "ipython",
    "version": 3
   },
   "file_extension": ".py",
   "mimetype": "text/x-python",
   "name": "python",
   "nbconvert_exporter": "python",
   "pygments_lexer": "ipython3",
   "version": "3.9.12"
  }
 },
 "nbformat": 4,
 "nbformat_minor": 4
}
