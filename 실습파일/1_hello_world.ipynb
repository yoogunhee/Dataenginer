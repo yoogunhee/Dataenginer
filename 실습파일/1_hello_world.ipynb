{
 "cells": [
  {
   "cell_type": "markdown",
   "id": "e17c9c1e-7856-4591-871c-81fcc7864208",
   "metadata": {},
   "source": [
    "# title level-1\n",
    "## title level-2\n",
    "### title level-3\n",
    "This codes make ...\n",
    "\n",
    "+ variables\n",
    "+ for statements\n",
    "+ operators"
   ]
  },
  {
   "cell_type": "code",
   "execution_count": 7,
   "id": "096258fa-7c8a-47e9-bc1c-4674feb60145",
   "metadata": {},
   "outputs": [
    {
     "name": "stdout",
     "output_type": "stream",
     "text": [
      "Hello world\n",
      "100\n",
      "908\n",
      "My name is Hyun Ahn\n"
     ]
    }
   ],
   "source": [
    "\"\"\"\n",
    "print() function\n",
    "\"\"\"\n",
    "\n",
    "print(\"Hello world\")\n",
    "print(100)\n",
    "date = 908\n",
    "print(date)\n",
    "\n",
    "intro = \"My name is\"\n",
    "name = \"Hyun Ahn\"\n",
    "\n",
    "print(intro + \" \" + name)"
   ]
  },
  {
   "cell_type": "code",
   "execution_count": 8,
   "id": "e379c64a",
   "metadata": {},
   "outputs": [],
   "source": [
    "\"\"\"\n",
    "Variables\n",
    "\"\"\"\n",
    "\n",
    "user_name = \"Hyun Ahn\"\n",
    "user_id = 20210024\n",
    "user_email = \"hyunahn@hs.ac.kr\"\n",
    "is_student = False"
   ]
  },
  {
   "cell_type": "code",
   "execution_count": 13,
   "id": "6e6102f8",
   "metadata": {},
   "outputs": [
    {
     "name": "stdout",
     "output_type": "stream",
     "text": [
      "x = 1\n",
      "address of x = 140717056993072\n",
      "x = 2\n",
      "address of x = 140717056993104\n",
      "140717056993104\n"
     ]
    }
   ],
   "source": [
    "\"\"\"\n",
    "Variables: Assignment\n",
    "\"\"\"\n",
    "\n",
    "# 변수 선언 및 주소 확인\n",
    "x = 1\n",
    "print(\"x =\", x)\n",
    "print(\"address of x =\", id(x))\n",
    "\n",
    "# 변수 재할당 및 주소 확인\n",
    "x = 2\n",
    "print(\"x =\", x)\n",
    "print(\"address of x =\", id(x))\n",
    "\n",
    "print(id(2))"
   ]
  },
  {
   "cell_type": "code",
   "execution_count": 17,
   "id": "09388548",
   "metadata": {},
   "outputs": [],
   "source": [
    "\"\"\"\n",
    "Variables: Naming Conventions\n",
    "\"\"\"\n",
    "\n",
    "# 올바른 변수명 예:\n",
    "myvar = \"John\"\n",
    "my_var = \"John\"\n",
    "_my_var = \"John\"\n",
    "myVar = \"John\"\n",
    "MYVAR = \"John\"\n",
    "myvar2 = \"John\""
   ]
  },
  {
   "cell_type": "code",
   "execution_count": 21,
   "id": "ccdd85ec",
   "metadata": {},
   "outputs": [
    {
     "ename": "SyntaxError",
     "evalue": "invalid syntax (<ipython-input-21-0ac9478e83d7>, line 3)",
     "output_type": "error",
     "traceback": [
      "\u001b[1;36m  File \u001b[1;32m\"<ipython-input-21-0ac9478e83d7>\"\u001b[1;36m, line \u001b[1;32m3\u001b[0m\n\u001b[1;33m    my var = \"John\"\u001b[0m\n\u001b[1;37m       ^\u001b[0m\n\u001b[1;31mSyntaxError\u001b[0m\u001b[1;31m:\u001b[0m invalid syntax\n"
     ]
    }
   ],
   "source": [
    "# 잘못된 변수명 예:\n",
    "\n",
    "my var = \"John\""
   ]
  },
  {
   "cell_type": "code",
   "execution_count": 23,
   "id": "d23521a3",
   "metadata": {},
   "outputs": [],
   "source": [
    "\"\"\"\n",
    "Comments\n",
    "\"\"\"\n",
    "\n",
    "# single line comment\n",
    "\"\"\"\n",
    "This code is for learning the basics of python\n",
    "- operators\n",
    "- variables\n",
    "- print()\n",
    "\n",
    "\"\"\"\n",
    "\n",
    "name = \"Hyun Ahn\"  # Defines the name"
   ]
  },
  {
   "cell_type": "code",
   "execution_count": 27,
   "id": "4e79817a",
   "metadata": {},
   "outputs": [
    {
     "name": "stdout",
     "output_type": "stream",
     "text": [
      "14\n",
      "6\n",
      "15\n",
      "2.0\n",
      "1\n",
      "32\n"
     ]
    }
   ],
   "source": [
    "\"\"\"\n",
    "Arithmetic Operations\n",
    "\n",
    "\"\"\"\n",
    "\n",
    "print(10 + 4)\n",
    "print(10 - 4)\n",
    "print(5 * 3)\n",
    "print(4 / 2)\n",
    "print(10 % 3)\n",
    "print(2 ** 5)"
   ]
  },
  {
   "cell_type": "code",
   "execution_count": null,
   "id": "0d4b249f",
   "metadata": {},
   "outputs": [],
   "source": [
    "\"\"\"\n",
    "Plus-Equals Operations\n",
    "\"\"\"\n"
   ]
  },
  {
   "cell_type": "code",
   "execution_count": 28,
   "id": "35196f27",
   "metadata": {},
   "outputs": [
    {
     "ename": "SyntaxError",
     "evalue": "EOL while scanning string literal (<ipython-input-28-9c14e96e9480>, line 6)",
     "output_type": "error",
     "traceback": [
      "\u001b[1;36m  File \u001b[1;32m\"<ipython-input-28-9c14e96e9480>\"\u001b[1;36m, line \u001b[1;32m6\u001b[0m\n\u001b[1;33m    print(\"Youyaho')\u001b[0m\n\u001b[1;37m                    ^\u001b[0m\n\u001b[1;31mSyntaxError\u001b[0m\u001b[1;31m:\u001b[0m EOL while scanning string literal\n"
     ]
    }
   ],
   "source": [
    "\"\"\"\n",
    "Errors\n",
    "\"\"\"\n",
    "\n",
    "# First error\n",
    "print(\"Youyaho')"
   ]
  },
  {
   "cell_type": "code",
   "execution_count": 31,
   "id": "35b69138",
   "metadata": {},
   "outputs": [
    {
     "ename": "SyntaxError",
     "evalue": "invalid syntax (<ipython-input-31-ca21682c527d>, line 5)",
     "output_type": "error",
     "traceback": [
      "\u001b[1;36m  File \u001b[1;32m\"<ipython-input-31-ca21682c527d>\"\u001b[1;36m, line \u001b[1;32m5\u001b[0m\n\u001b[1;33m    IF age < 30:\u001b[0m\n\u001b[1;37m       ^\u001b[0m\n\u001b[1;31mSyntaxError\u001b[0m\u001b[1;31m:\u001b[0m invalid syntax\n"
     ]
    }
   ],
   "source": [
    "# SyntaxError\n",
    "\n",
    "age = 38\n",
    "\n",
    "IF age < 30:\n",
    "    print(\"You are young\")\n",
    "    \n",
    "else:\n",
    "    print(\"You are not young..\")"
   ]
  },
  {
   "cell_type": "code",
   "execution_count": 33,
   "id": "7802ffcc",
   "metadata": {},
   "outputs": [
    {
     "name": "stdout",
     "output_type": "stream",
     "text": [
      "Korea\n"
     ]
    }
   ],
   "source": [
    "# NameError\n",
    "\n",
    "my_country = \"Korea\"\n",
    "print(my_country)\n"
   ]
  },
  {
   "cell_type": "code",
   "execution_count": 34,
   "id": "d9d77806",
   "metadata": {},
   "outputs": [
    {
     "ename": "ZeroDivisionError",
     "evalue": "division by zero",
     "output_type": "error",
     "traceback": [
      "\u001b[1;31m---------------------------------------------------------------------------\u001b[0m",
      "\u001b[1;31mZeroDivisionError\u001b[0m                         Traceback (most recent call last)",
      "\u001b[1;32m<ipython-input-34-5574fe7d6256>\u001b[0m in \u001b[0;36m<module>\u001b[1;34m\u001b[0m\n\u001b[0;32m      3\u001b[0m \u001b[0mdenominator\u001b[0m \u001b[1;33m=\u001b[0m \u001b[1;36m0\u001b[0m \u001b[1;31m# 분모\u001b[0m\u001b[1;33m\u001b[0m\u001b[1;33m\u001b[0m\u001b[0m\n\u001b[0;32m      4\u001b[0m \u001b[1;33m\u001b[0m\u001b[0m\n\u001b[1;32m----> 5\u001b[1;33m \u001b[0mbad_result\u001b[0m \u001b[1;33m=\u001b[0m \u001b[0mnumerator\u001b[0m \u001b[1;33m/\u001b[0m \u001b[0mdenominator\u001b[0m\u001b[1;33m\u001b[0m\u001b[1;33m\u001b[0m\u001b[0m\n\u001b[0m",
      "\u001b[1;31mZeroDivisionError\u001b[0m: division by zero"
     ]
    }
   ],
   "source": [
    "# ZeroDivisionError\n",
    "numerator = 100 # 분자\n",
    "denominator = 0 # 분모\n",
    "\n",
    "bad_result = numerator / denominator\n"
   ]
  },
  {
   "cell_type": "code",
   "execution_count": null,
   "id": "5fdfe59d",
   "metadata": {},
   "outputs": [],
   "source": [
    "\"\"\"\n",
    "Data Types: Integers\n",
    "\"\"\"\n"
   ]
  },
  {
   "cell_type": "code",
   "execution_count": null,
   "id": "88b810ea",
   "metadata": {},
   "outputs": [],
   "source": [
    "\"\"\"\n",
    "Data Types: Real Numbers\n",
    "\"\"\"\n"
   ]
  },
  {
   "cell_type": "code",
   "execution_count": 36,
   "id": "f72ed3a1",
   "metadata": {},
   "outputs": [
    {
     "name": "stdout",
     "output_type": "stream",
     "text": [
      "Failure is the mother of successBattle groundSonny\n"
     ]
    }
   ],
   "source": [
    "\"\"\"\n",
    "Data Types: Strings\n",
    "\"\"\"\n",
    "\n",
    "favorite_motto = \"Failure is the mother of success\"\n",
    "favorite_game = \"Battle ground\"\n",
    "favorite_athelete = \"Sonny\"\n",
    "\n",
    "print(favorite_motto + favorite_game + favorite_athelete)"
   ]
  },
  {
   "cell_type": "code",
   "execution_count": null,
   "id": "88501ee6-3475-4745-bae4-e4619cba8620",
   "metadata": {},
   "outputs": [],
   "source": []
  }
 ],
 "metadata": {
  "kernelspec": {
   "display_name": "anaconda-2022.05-py39",
   "language": "python",
   "name": "conda-env-anaconda-2022.05-py39-py"
  },
  "language_info": {
   "codemirror_mode": {
    "name": "ipython",
    "version": 3
   },
   "file_extension": ".py",
   "mimetype": "text/x-python",
   "name": "python",
   "nbconvert_exporter": "python",
   "pygments_lexer": "ipython3",
   "version": "3.9.12"
  }
 },
 "nbformat": 4,
 "nbformat_minor": 5
}
