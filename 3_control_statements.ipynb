{
 "cells": [
  {
   "cell_type": "code",
   "execution_count": null,
   "metadata": {},
   "outputs": [],
   "source": [
    "\"\"\"\n",
    "boolean variables\n",
    "\"\"\"\n",
    "\n",
    "is_tested = True\n",
    "is_passed = False\n",
    "\n",
    "print(\"흥민이는 정처기 시험을 응시했는가?\", is_tested)\n",
    "print(\"흥민이는 정처기 시험을 통과했는가?\", is_passed)\n",
    "\n",
    "# [+] 흥민이의 정처기 시험 응시여부와 통과여부를 출력하기\n",
    "..."
   ]
  },
  {
   "cell_type": "code",
   "execution_count": null,
   "metadata": {},
   "outputs": [],
   "source": [
    "\"\"\"\n",
    "Conditional statements (if / elif /else)\n",
    "\"\"\"\n",
    "\n",
    "puppy = \"maltepoo\"\n",
    "is_yes = False\n",
    "\n",
    "# [+] if, elif, else 문을 이용한 강아지 맞추기\n",
    "...\n",
    "\n",
    "print(is_yes)"
   ]
  },
  {
   "cell_type": "code",
   "execution_count": null,
   "metadata": {},
   "outputs": [],
   "source": [
    "\"\"\"\n",
    "Exception Handling\n",
    "\"\"\"\n",
    "\n",
    "x = 1\n",
    "\n",
    "try:\n",
    "    print(y)\n",
    "    print(x)\n",
    "\n",
    "except:\n",
    "    print(\"[Error]\")\n",
    "\n",
    "print('continue')"
   ]
  },
  {
   "cell_type": "code",
   "execution_count": null,
   "metadata": {},
   "outputs": [],
   "source": [
    "\"\"\"\n",
    "for Loops\n",
    "\"\"\"\n",
    "\n",
    "# [+] [1, 2, 3, 4, 5] 리스트의 원소값을 출력하는 for 문 작성하기\n",
    "..."
   ]
  },
  {
   "cell_type": "code",
   "execution_count": null,
   "metadata": {},
   "outputs": [],
   "source": [
    "\"\"\" \n",
    "for Loops using range()\n",
    "\"\"\"\n",
    "\n",
    "# [+] range(stop)\n",
    "..."
   ]
  },
  {
   "cell_type": "code",
   "execution_count": null,
   "metadata": {},
   "outputs": [],
   "source": [
    "# [+] range(start, stop)\n",
    "..."
   ]
  },
  {
   "cell_type": "code",
   "execution_count": null,
   "metadata": {},
   "outputs": [],
   "source": [
    "# [+] range(start, stop, step)\n",
    "..."
   ]
  },
  {
   "cell_type": "code",
   "execution_count": null,
   "metadata": {
    "tags": []
   },
   "outputs": [],
   "source": [
    "\"\"\"\n",
    "continue Keyword\n",
    "\"\"\"\n",
    "\n",
    "nums = [3, -1, 2, -4, 5, -100, 8, 11]\n",
    "\n",
    "# [+] continue를 이용한 for문 제어\n",
    "..."
   ]
  },
  {
   "cell_type": "code",
   "execution_count": null,
   "metadata": {},
   "outputs": [],
   "source": [
    "\"\"\"\n",
    "break Keyword\n",
    "\"\"\"\n",
    "\n",
    "game_plays = ['stage1', 'stage2', 'stage3', 'gameover', \n",
    "              'stage4', 'stage5']\n",
    "\n",
    "\n",
    "for play in game_plays:\n",
    "    \n",
    "    if play == 'gameover':\n",
    "        print(\"Game is Over...\")\n",
    "        break\n",
    "    \n",
    "    print(play + \"is complete.\")"
   ]
  },
  {
   "cell_type": "code",
   "execution_count": null,
   "metadata": {},
   "outputs": [],
   "source": [
    "\"\"\"\n",
    "List Comprehension\n",
    "\"\"\"\n",
    "\n",
    "# [+] 리스트 컴프리헨션을 이용하여 1-10까지의 정수 리스트 생성하기\n",
    "...\n",
    "\n",
    "print(result)"
   ]
  },
  {
   "cell_type": "code",
   "execution_count": null,
   "metadata": {},
   "outputs": [],
   "source": [
    "\"\"\"\n",
    "List comprehension including conditions\n",
    "\"\"\"\n",
    "\n",
    "hotspurs = [['손흥민', 'A'], ['제임스 메디슨', 'A+'], \n",
    "['탕기 은돔벨레', 'F'], ['히샬리송', 'C'], \n",
    "['파페 사르', 'B+'], ['이브 비수마', 'A']]\n",
    "\n",
    "# [+] 리스트 컴프리헨션을 이용하여 평가가 F인 선수 이름 출력하기\n",
    "...\n",
    "\n",
    "print(\"감독님한테 혼날 사람:\")\n",
    "print(poors)"
   ]
  },
  {
   "cell_type": "code",
   "execution_count": null,
   "metadata": {},
   "outputs": [],
   "source": [
    "\"\"\"\n",
    "Nested Loops\n",
    "\"\"\"\n",
    "\n",
    "# [+] 중첩된 for 문을 이용한 구구단 출력(1~9)\n",
    "..."
   ]
  },
  {
   "cell_type": "code",
   "execution_count": null,
   "metadata": {},
   "outputs": [],
   "source": [
    "# While loops\n",
    "hungry = True\n",
    "foods_on_table = ['참치김밥', '순대', '로제떡볶이',\n",
    "                  '김말이', '오뎅', '단무지', '고로케']\n",
    "\n",
    "foods_num = len(foods_on_table)\n",
    "ate_num = 0 # 내가 먹은 음식 수 = ate_num + 1\n",
    "\n",
    "while ate_num < 4:\n",
    "    print(foods_on_table[ate_num] + '냠냠')\n",
    "    ate_num += 1\n",
    "\n",
    "print('배불르다 여기까지..')"
   ]
  },
  {
   "cell_type": "code",
   "execution_count": null,
   "metadata": {},
   "outputs": [],
   "source": [
    "\"\"\"\n",
    "Infinite Loops\n",
    "\"\"\"\n",
    "\n",
    "x = 1\n",
    "y = 1\n",
    "\n",
    "while x < 5:\n",
    "    print(\"Do something\")\n",
    "    y += 1\n",
    "\n"
   ]
  }
 ],
 "metadata": {
  "kernelspec": {
   "display_name": "Python 3 (ipykernel)",
   "language": "python",
   "name": "python3"
  },
  "language_info": {
   "codemirror_mode": {
    "name": "ipython",
    "version": 3
   },
   "file_extension": ".py",
   "mimetype": "text/x-python",
   "name": "python",
   "nbconvert_exporter": "python",
   "pygments_lexer": "ipython3",
   "version": "3.11.3"
  }
 },
 "nbformat": 4,
 "nbformat_minor": 4
}
