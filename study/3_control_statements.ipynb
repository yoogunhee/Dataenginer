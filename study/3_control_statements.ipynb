{
 "cells": [
  {
   "cell_type": "code",
   "execution_count": 2,
   "metadata": {},
   "outputs": [
    {
     "name": "stdout",
     "output_type": "stream",
     "text": [
      "흥민이는 정처기 시험을 응시했는가? True\n",
      "흥민이는 정처기 시험을 통과했는가? False\n"
     ]
    }
   ],
   "source": [
    "\"\"\"\n",
    "boolean variables\n",
    "\"\"\"\n",
    "\n",
    "is_tested = True\n",
    "is_passed = False\n",
    "\n",
    "print(\"흥민이는 정처기 시험을 응시했는가?\", is_tested)\n",
    "print(\"흥민이는 정처기 시험을 통과했는가?\", is_passed)\n",
    "\n",
    "# [+] 흥민이의 정처기 시험 응시여부와 통과여부를 출력하기\n"
   ]
  },
  {
   "cell_type": "code",
   "execution_count": 18,
   "metadata": {},
   "outputs": [
    {
     "name": "stdout",
     "output_type": "stream",
     "text": [
      "말티푸\n",
      "True\n"
     ]
    }
   ],
   "source": [
    "\"\"\"\n",
    "Conditional statements (if / elif /else)\n",
    "\"\"\"\n",
    "\n",
    "puppy = \"maltepoo\"\n",
    "is_yes = False\n",
    "\n",
    "# [+] if, elif, else 문을 이용한 강아지 맞추기\n",
    "...\n",
    "if puppy == \"maltese\":\n",
    "    is_yes = True\n",
    "    \n",
    "elif puppy =='poodle':\n",
    "    is_yes = True\n",
    "    \n",
    "elif puppy == 'shitzu':\n",
    "    is_yes = True\n",
    "    \n",
    "else :\n",
    "    print('말티푸')\n",
    "    is_yes = True\n",
    "    \n",
    "print(is_yes)"
   ]
  },
  {
   "cell_type": "code",
   "execution_count": 20,
   "metadata": {},
   "outputs": [
    {
     "name": "stdout",
     "output_type": "stream",
     "text": [
      "[Error]\n",
      "continue\n"
     ]
    }
   ],
   "source": [
    "\"\"\"\n",
    "Exception Handling\n",
    "\"\"\"\n",
    "\n",
    "x = 1\n",
    "\n",
    "try:\n",
    "    print(y)\n",
    "    print(x)\n",
    "\n",
    "except:\n",
    "    print(\"[Error]\")\n",
    "\n",
    "print('continue')"
   ]
  },
  {
   "cell_type": "code",
   "execution_count": 26,
   "metadata": {},
   "outputs": [
    {
     "name": "stdout",
     "output_type": "stream",
     "text": [
      "1\n",
      "2\n",
      "3\n",
      "4\n",
      "5\n"
     ]
    }
   ],
   "source": [
    "\"\"\"\n",
    "for Loops\n",
    "\"\"\"\n",
    "nums = [ 1,2,3,4,5]\n",
    "for num in nums:\n",
    "    print(num)\n",
    "# [+] [1, 2, 3, 4, 5] 리스트의 원소값을 출력하는 for 문 작성하기"
   ]
  },
  {
   "cell_type": "code",
   "execution_count": 34,
   "metadata": {},
   "outputs": [
    {
     "name": "stdout",
     "output_type": "stream",
     "text": [
      "0\n",
      "1\n",
      "2\n",
      "3\n",
      "4\n",
      "5\n",
      "6\n",
      "7\n",
      "8\n",
      "9\n"
     ]
    }
   ],
   "source": [
    "\"\"\" \n",
    "for Loops using range()\n",
    "\"\"\"\n",
    "\n",
    "# [+] range(stop)\n",
    "for i in range(10): # 0부터 stop -1 까지 니까 0~9 까지나오는 것 \n",
    "    print(i)"
   ]
  },
  {
   "cell_type": "code",
   "execution_count": 40,
   "metadata": {},
   "outputs": [
    {
     "name": "stdout",
     "output_type": "stream",
     "text": [
      "1 th month\n",
      "2 th month\n",
      "3 th month\n",
      "4 th month\n",
      "5 th month\n",
      "6 th month\n",
      "7 th month\n",
      "8 th month\n",
      "9 th month\n",
      "10 th month\n",
      "11 th month\n",
      "12 th month\n"
     ]
    }
   ],
   "source": [
    "# [+] range(start, stop)\n",
    "for month in range(1,13):\n",
    "    print(month,'th month')"
   ]
  },
  {
   "cell_type": "code",
   "execution_count": 48,
   "metadata": {},
   "outputs": [
    {
     "name": "stdout",
     "output_type": "stream",
     "text": [
      "3 is multiple of 3\n",
      "6 is multiple of 3\n",
      "9 is multiple of 3\n",
      "12 is multiple of 3\n",
      "15 is multiple of 3\n",
      "18 is multiple of 3\n"
     ]
    }
   ],
   "source": [
    "# [+] range(start, stop, step) step은 간격을 의미함 \n",
    "for num in range(3,20,3): #20이하의 3의배수가 나올거임\n",
    "    print(num,\"is multiple of 3\") "
   ]
  },
  {
   "cell_type": "code",
   "execution_count": 52,
   "metadata": {
    "tags": []
   },
   "outputs": [
    {
     "name": "stdout",
     "output_type": "stream",
     "text": [
      "3\n",
      "2\n",
      "5\n",
      "8\n",
      "11\n"
     ]
    }
   ],
   "source": [
    "\"\"\"\n",
    "continue Keyword\n",
    "\"\"\"\n",
    "\n",
    "nums = [3, -1, 2, -4, 5, -100, 8, 11]\n",
    "for num in nums:\n",
    "    if num < 0:\n",
    "        continue # num이 음수면 밑에 print까지 안하고 처음으로 돌아가는거임\n",
    "        \n",
    "    print(num)\n",
    "# [+] continue를 이용한 for문 제어\n"
   ]
  },
  {
   "cell_type": "code",
   "execution_count": 56,
   "metadata": {},
   "outputs": [
    {
     "name": "stdout",
     "output_type": "stream",
     "text": [
      "stage1is complete.\n",
      "stage2is complete.\n",
      "stage3is complete.\n",
      "Game is Over...\n"
     ]
    }
   ],
   "source": [
    "\"\"\"\n",
    "break Keyword\n",
    "\"\"\"\n",
    "\n",
    "game_plays = ['stage1', 'stage2', 'stage3', 'gameover', \n",
    "              'stage4', 'stage5']\n",
    "\n",
    "\n",
    "for play in game_plays:\n",
    "    \n",
    "    if play == 'gameover':\n",
    "        print(\"Game is Over...\")\n",
    "        break # if문 만족시 게임오버 print하고 break로 인해 반복문 종료 스테이지 4, 5 는 출력안함\n",
    "    \n",
    "    print(play + \"is complete.\")"
   ]
  },
  {
   "cell_type": "code",
   "execution_count": null,
   "metadata": {},
   "outputs": [],
   "source": [
    "\"\"\"\n",
    "List Comprehension\n",
    "\"\"\"\n",
    "\n",
    "# [+] 리스트 컴프리헨션을 이용하여 1-10까지의 정수 리스트 생성하기\n",
    "...\n",
    "    \n",
    "print(result)"
   ]
  },
  {
   "cell_type": "code",
   "execution_count": null,
   "metadata": {},
   "outputs": [],
   "source": [
    "\"\"\"\n",
    "List comprehension including conditions\n",
    "\"\"\"\n",
    "\n",
    "hotspurs = [['손흥민', 'A'], ['제임스 메디슨', 'A+'], \n",
    "['탕기 은돔벨레', 'F'], ['히샬리송', 'C'], \n",
    "['파페 사르', 'B+'], ['이브 비수마', 'A']]\n",
    "\n",
    "# [+] 리스트 컴프리헨션을 이용하여 평가가 F인 선수 이름 출력하기\n",
    "...\n",
    "\n",
    "print(\"감독님한테 혼날 사람:\")\n",
    "print(poors)"
   ]
  },
  {
   "cell_type": "code",
   "execution_count": null,
   "metadata": {},
   "outputs": [],
   "source": [
    "\"\"\"\n",
    "Nested Loops\n",
    "\"\"\"\n",
    "\n",
    "# [+] 중첩된 for 문을 이용한 구구단 출력(1~9)\n",
    "..."
   ]
  },
  {
   "cell_type": "code",
   "execution_count": null,
   "metadata": {},
   "outputs": [],
   "source": [
    "# While loops\n",
    "hungry = True\n",
    "foods_on_table = ['참치김밥', '순대', '로제떡볶이',\n",
    "                  '김말이', '오뎅', '단무지', '고로케']\n",
    "\n",
    "foods_num = len(foods_on_table)\n",
    "ate_num = 0 # 내가 먹은 음식 수 = ate_num + 1\n",
    "\n",
    "while ate_num < 4:\n",
    "    print(foods_on_table[ate_num] + '냠냠')\n",
    "    ate_num += 1\n",
    "\n",
    "print('배불르다 여기까지..')"
   ]
  },
  {
   "cell_type": "code",
   "execution_count": null,
   "metadata": {},
   "outputs": [],
   "source": [
    "\"\"\"\n",
    "Infinite Loops\n",
    "\"\"\"\n",
    "\n",
    "x = 1\n",
    "y = 1\n",
    "\n",
    "while x < 5:\n",
    "    print(\"Do something\")\n",
    "    y += 1\n",
    "\n"
   ]
  }
 ],
 "metadata": {
  "kernelspec": {
   "display_name": "anaconda-2022.05-py39",
   "language": "python",
   "name": "conda-env-anaconda-2022.05-py39-py"
  },
  "language_info": {
   "codemirror_mode": {
    "name": "ipython",
    "version": 3
   },
   "file_extension": ".py",
   "mimetype": "text/x-python",
   "name": "python",
   "nbconvert_exporter": "python",
   "pygments_lexer": "ipython3",
   "version": "3.9.12"
  }
 },
 "nbformat": 4,
 "nbformat_minor": 4
}
