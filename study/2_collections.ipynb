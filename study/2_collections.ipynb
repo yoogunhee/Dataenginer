{
 "cells": [
  {
   "cell_type": "markdown",
   "id": "5bad2ed0-c1fb-4ead-aeea-40c391addce3",
   "metadata": {},
   "source": [
    "## 파이썬 컬렉션\n",
    "1. 컬렉션 타입 소개\n",
    "2. 리스트"
   ]
  },
  {
   "cell_type": "markdown",
   "id": "18157954-cc12-4d6a-88a6-b886947c6d6a",
   "metadata": {},
   "source": [
    "### 1. 컬렉션 타입 소개\n",
    "+ Immutable Sequence 유형: Tuples, String\n",
    "+ Mutable Sequence 유형: Lists, Sets"
   ]
  },
  {
   "cell_type": "code",
   "execution_count": 36,
   "id": "446711b8-5f5a-4d5d-9e30-86bafd61292d",
   "metadata": {},
   "outputs": [
    {
     "name": "stdout",
     "output_type": "stream",
     "text": [
      "3\n"
     ]
    }
   ],
   "source": [
    "# Tuple은 (value 1, value 2, ..., value n)와 같은 형식으로 선언\n",
    "coordinate = (3, 4)\n",
    "print(coordinate[0])\n"
   ]
  },
  {
   "cell_type": "code",
   "execution_count": 40,
   "id": "df319558-8755-4e84-9788-5c5d740d55cb",
   "metadata": {},
   "outputs": [
    {
     "ename": "TypeError",
     "evalue": "'tuple' object does not support item assignment",
     "output_type": "error",
     "traceback": [
      "\u001b[0;31m---------------------------------------------------------------------------\u001b[0m",
      "\u001b[0;31mTypeError\u001b[0m                                 Traceback (most recent call last)",
      "Input \u001b[0;32mIn [40]\u001b[0m, in \u001b[0;36m<cell line: 2>\u001b[0;34m()\u001b[0m\n\u001b[1;32m      1\u001b[0m \u001b[38;5;66;03m# Tuple은 값 변경이 불가능하다(immutable).\u001b[39;00m\n\u001b[0;32m----> 2\u001b[0m coordinate[\u001b[38;5;241m0\u001b[39m] \u001b[38;5;241m=\u001b[39m \u001b[38;5;241m4\u001b[39m\n",
      "\u001b[0;31mTypeError\u001b[0m: 'tuple' object does not support item assignment"
     ]
    }
   ],
   "source": [
    "# Tuple은 값 변경이 불가능하다(immutable).\n",
    "coordinate[0] = 4"
   ]
  },
  {
   "cell_type": "code",
   "execution_count": 50,
   "id": "bc4325fd-5161-4e46-8adb-d0dbfcd2f320",
   "metadata": {},
   "outputs": [
    {
     "name": "stdout",
     "output_type": "stream",
     "text": [
      "Hyun Ahn\n"
     ]
    }
   ],
   "source": [
    "# String 선언 방식: \"문자열 내용\" 또는 '문자열 내용'\n",
    "name = 'Hyun Ahn'\n",
    "print(name)"
   ]
  },
  {
   "cell_type": "code",
   "execution_count": 52,
   "id": "d4fc6ee4-48ed-4460-911e-0d734fec0b19",
   "metadata": {},
   "outputs": [
    {
     "ename": "SyntaxError",
     "evalue": "invalid syntax (3058542461.py, line 2)",
     "output_type": "error",
     "traceback": [
      "\u001b[0;36m  Input \u001b[0;32mIn [52]\u001b[0;36m\u001b[0m\n\u001b[0;31m    name[5:] =\u001b[0m\n\u001b[0m              ^\u001b[0m\n\u001b[0;31mSyntaxError\u001b[0m\u001b[0;31m:\u001b[0m invalid syntax\n"
     ]
    }
   ],
   "source": [
    "# String도 역시 immutable\n",
    "name[5:] =\n",
    "'Kim'"
   ]
  },
  {
   "cell_type": "code",
   "execution_count": 44,
   "id": "76796d3d-edc0-46f3-b4e5-a3f8374da617",
   "metadata": {},
   "outputs": [
    {
     "name": "stdout",
     "output_type": "stream",
     "text": [
      "['Hyun Ahn', 37, 'Hanshin University', False]\n"
     ]
    }
   ],
   "source": [
    "# List 선언 방식: [value 1, value 2, ..., value n]\n",
    "my_info_lst = [\"Hyun Ahn\", 37, \n",
    "\"Hanshin University\"\n",
    ", False]\n",
    "print(my_info_lst)\n",
    "\n",
    "\n"
   ]
  },
  {
   "cell_type": "code",
   "execution_count": 60,
   "id": "ac4d3078-15d6-4452-b2d8-b229eae86320",
   "metadata": {},
   "outputs": [
    {
     "ename": "ValueError",
     "evalue": "list.remove(x): x not in list",
     "output_type": "error",
     "traceback": [
      "\u001b[0;31m---------------------------------------------------------------------------\u001b[0m",
      "\u001b[0;31mValueError\u001b[0m                                Traceback (most recent call last)",
      "Input \u001b[0;32mIn [60]\u001b[0m, in \u001b[0;36m<cell line: 4>\u001b[0;34m()\u001b[0m\n\u001b[1;32m      2\u001b[0m my_info_lst[\u001b[38;5;241m1\u001b[39m] \u001b[38;5;241m=\u001b[39m \u001b[38;5;241m38\u001b[39m\n\u001b[1;32m      3\u001b[0m my_info_lst\u001b[38;5;241m.\u001b[39mappend(\u001b[38;5;124m'\u001b[39m\u001b[38;5;124mAnyang-si\u001b[39m\u001b[38;5;124m'\u001b[39m)\n\u001b[0;32m----> 4\u001b[0m \u001b[43mmy_info_lst\u001b[49m\u001b[38;5;241;43m.\u001b[39;49m\u001b[43mremove\u001b[49m\u001b[43m(\u001b[49m\u001b[38;5;28;43;01mFalse\u001b[39;49;00m\u001b[43m)\u001b[49m\n",
      "\u001b[0;31mValueError\u001b[0m: list.remove(x): x not in list"
     ]
    }
   ],
   "source": [
    "# List는 값 변경(추가, 삭제, 수정)이 가능하다.\n",
    "my_info_lst[1] = 38\n",
    "my_info_lst.append('Anyang-si')\n",
    "my_info_lst.remove(False)\n"
   ]
  },
  {
   "cell_type": "code",
   "execution_count": 62,
   "id": "ab821b15-b771-4193-b60f-65c72a11ceb2",
   "metadata": {},
   "outputs": [
    {
     "name": "stdout",
     "output_type": "stream",
     "text": [
      "{'Hyun Ahn', 'Hanshin University', 'Anyang-si', 38}\n"
     ]
    },
    {
     "data": {
      "text/plain": [
       "{38, 'Anyang-si', 'Hanshin University', 'Hyun Ahn'}"
      ]
     },
     "execution_count": 62,
     "metadata": {},
     "output_type": "execute_result"
    }
   ],
   "source": [
    "# Set 선언 방식: set(List 객체)\n",
    "my_info_set = set(my_info_lst)\n",
    "my_info_set.add('Hyun Ahn')\n",
    "print(my_info_set)\n",
    "{'Hyun Ahn', 'Anyang-si', 'Hanshin University', 38}\n"
   ]
  },
  {
   "cell_type": "code",
   "execution_count": 12,
   "id": "dcfb78b8-3f58-479f-82e5-366b3eca6bb7",
   "metadata": {},
   "outputs": [
    {
     "name": "stdout",
     "output_type": "stream",
     "text": [
      "{'name': 'hanshin University', 'establishment_year': 1940, 'piblic|private': 'private'}\n"
     ]
    }
   ],
   "source": [
    "# Dictionary 선언 방식: {'key 1':'value 1', ..., 'key n': 'value n'}\n",
    "hsu_dict={'name':'hanshin University',\n",
    "         'establishment_year' : 1940, \n",
    "         'piblic|private': 'private'\n",
    "         }\n",
    "print(hsu_dict)\n"
   ]
  },
  {
   "cell_type": "code",
   "execution_count": null,
   "id": "924c20ed-4f2a-465b-ad53-e5721e114315",
   "metadata": {},
   "outputs": [],
   "source": [
    "# Dictionary 값 추가 \n"
   ]
  },
  {
   "cell_type": "markdown",
   "id": "b82f3cdc-4ce2-4b53-a8ec-1ddb761be541",
   "metadata": {},
   "source": [
    "### 2. 리스트"
   ]
  },
  {
   "cell_type": "code",
   "execution_count": 30,
   "id": "8e747fd1-98a0-41a8-bb95-f955a72b8b4c",
   "metadata": {},
   "outputs": [
    {
     "name": "stdout",
     "output_type": "stream",
     "text": [
      "[2, 3, 5, 7, 11]\n"
     ]
    }
   ],
   "source": [
    "# 리스트 선언\n",
    "primes = [2, 3, 5, 7, 11]\n",
    "print(primes)\n",
    "[2, 3, 5, 7, 11]\n",
    "empty_list = []\n"
   ]
  },
  {
   "cell_type": "code",
   "execution_count": 32,
   "id": "df355d33-6772-43af-9087-fe3f5941cf92",
   "metadata": {},
   "outputs": [
    {
     "data": {
      "text/plain": [
       "[['a', 1], ['b', 2]]"
      ]
     },
     "execution_count": 32,
     "metadata": {},
     "output_type": "execute_result"
    }
   ],
   "source": [
    "list_of_lists=[['a',1],['b',2]]\n",
    "list_of_lists"
   ]
  },
  {
   "cell_type": "code",
   "execution_count": 26,
   "id": "584338d4-4a25-4606-9e96-b23c577373a3",
   "metadata": {},
   "outputs": [
    {
     "name": "stdout",
     "output_type": "stream",
     "text": [
      "['Jenny]', 1, 1.4, True]\n"
     ]
    }
   ],
   "source": [
    "# 다양한 유형의 데이터 저장\n",
    "mixed =['Jenny]', 1, 1.4 , True]\n",
    "print(mixed)"
   ]
  },
  {
   "cell_type": "code",
   "execution_count": 66,
   "id": "fe938eff-86ba-41bd-976d-e478eac88dc1",
   "metadata": {},
   "outputs": [
    {
     "name": "stdout",
     "output_type": "stream",
     "text": [
      "Roger\n",
      "Rafael\n",
      "Andy\n",
      "Novak\n"
     ]
    }
   ],
   "source": [
    "# Zero-indexing\n",
    "names = ['Roger', 'Rafael', 'Andy', 'Novak']\n",
    "print(names[0]) # first data\n",
    "print(names[1]) # second data\n",
    "print(names[2]) \n",
    "print(names[3])"
   ]
  },
  {
   "cell_type": "code",
   "execution_count": 68,
   "id": "0d6be9bf-af82-4a4c-bdc0-2474ffc6d960",
   "metadata": {},
   "outputs": [
    {
     "data": {
      "text/plain": [
       "'Andy'"
      ]
     },
     "execution_count": 68,
     "metadata": {},
     "output_type": "execute_result"
    }
   ],
   "source": [
    "# Negative indexing\n",
    "names[-2]"
   ]
  },
  {
   "cell_type": "code",
   "execution_count": 78,
   "id": "a53fff52-35b9-471a-8f1d-dab4175daca3",
   "metadata": {},
   "outputs": [],
   "source": [
    "# 리스트 슬라이싱\n",
    "hsu_buildings = ['만우관', '장공관', '필헌관', '소통관', '송암관', '늦봄관', '장준하통일관']\n",
    "\n",
    "building_slice=hsu_buildings[1:4]\n"
   ]
  },
  {
   "cell_type": "code",
   "execution_count": 80,
   "id": "4acc4d23-b0db-4078-b905-14bcf19004da",
   "metadata": {},
   "outputs": [
    {
     "data": {
      "text/plain": [
       "['장공관', '필헌관', '생활관']"
      ]
     },
     "execution_count": 80,
     "metadata": {},
     "output_type": "execute_result"
    }
   ],
   "source": [
    "building_slice[2] ='생활관'#바꾸는거임 소통관 <->생활관\n",
    "building_slice"
   ]
  },
  {
   "cell_type": "code",
   "execution_count": null,
   "id": "f0586255-b1e4-43e2-84f7-c7a6ceef0488",
   "metadata": {},
   "outputs": [],
   "source": []
  },
  {
   "cell_type": "code",
   "execution_count": 92,
   "id": "4af9c923-7b9d-4418-828e-b2b59db0fd02",
   "metadata": {},
   "outputs": [
    {
     "name": "stdout",
     "output_type": "stream",
     "text": [
      "[['해우리', '한식', '해우라면'], ['화락', '일식', '화락초밥'], ['찌개동아리', '한식', '제육전골'], ['몽상', '양식', '매운크림리조또']]\n"
     ]
    }
   ],
   "source": [
    "# 다차원 리스트\n",
    "restaurants = [['해우리', '한식', '해우라면'], ['화락', '일식', '화락초밥'], \n",
    "               ['찌개동아리', '한식', '제육전골'], ['몽상', '양식', '매운크림리조또']]\n",
    "print(restaurants)"
   ]
  },
  {
   "cell_type": "code",
   "execution_count": 94,
   "id": "02c4054f-ab64-46b3-a669-c3971e2cabe7",
   "metadata": {},
   "outputs": [],
   "source": [
    "restaurants[2][2] ='된짱찌개'"
   ]
  },
  {
   "cell_type": "code",
   "execution_count": 100,
   "id": "65a7dfca-1e1f-4308-9694-7f55497e9dec",
   "metadata": {},
   "outputs": [],
   "source": [
    "# 리스트 병합하기\n",
    "items_one = ['cake', 'cookie', 'bread']\n",
    "items_two = ['biscuit', 'tart']\n"
   ]
  },
  {
   "cell_type": "code",
   "execution_count": 108,
   "id": "3eb0f3eb-ad44-49ee-b0c2-c41e40f704ea",
   "metadata": {},
   "outputs": [
    {
     "name": "stdout",
     "output_type": "stream",
     "text": [
      "a\n",
      "b\n",
      "c\n",
      "f\n"
     ]
    }
   ],
   "source": [
    "scores = ['a','b','c','f']\n",
    "\n",
    "for score in scores:\n",
    "    print(score)"
   ]
  },
  {
   "cell_type": "code",
   "execution_count": 114,
   "id": "0e384503-f917-4957-9652-4c3218bdf1c6",
   "metadata": {},
   "outputs": [
    {
     "data": {
      "text/plain": [
       "5"
      ]
     },
     "execution_count": 114,
     "metadata": {},
     "output_type": "execute_result"
    }
   ],
   "source": [
    "lst=[1,2,3,1,1,2,2,23,3,2,1,2,1]\n",
    "lst.count(2)#2가 몇개인지 세는거임"
   ]
  },
  {
   "cell_type": "code",
   "execution_count": 96,
   "id": "25bd1ea6-b2f4-427e-8edc-8086d8040d41",
   "metadata": {},
   "outputs": [
    {
     "name": "stdout",
     "output_type": "stream",
     "text": [
      "5\n"
     ]
    }
   ],
   "source": [
    "# len()\n",
    "knapsack = [2, 4, 3, 7, 10]\n",
    "size = len(knapsack)\n",
    "print(size)"
   ]
  },
  {
   "cell_type": "code",
   "execution_count": 2,
   "id": "db4b35fa-d7df-4a8f-b7df-0b4b5ca2008f",
   "metadata": {},
   "outputs": [
    {
     "name": "stdout",
     "output_type": "stream",
     "text": [
      "5\n",
      "['daisies', 'periwinkle', 'tulips']\n",
      "['Karla', 'Maxium', 'Vikor', 'Martin', 'Isabella']\n",
      "[1, 2, 3, 4]\n",
      "['늦봄관', '만우관', '소통관', '송암관', '장공관', '장준하통일관', '필헌관']\n"
     ]
    }
   ],
   "source": [
    "# 리스트에서 제공하는 메소드들\n",
    "\n",
    "# len()\n",
    "knapsack = [2, 4, 3, 7, 10]\n",
    "size = len(knapsack)\n",
    "print(size)\n",
    "\n",
    "# append()\n",
    "orders = ['daisies', 'periwinkle']\n",
    "orders.append('tulips')\n",
    "\n",
    "print(orders)\n",
    "\n",
    "# insert()\n",
    "store_line = ['Karla', 'Maxium', 'Martin', 'Isabella']\n",
    "store_line.insert(2, 'Vikor')\n",
    "\n",
    "print(store_line)\n",
    "\n",
    "# sort()\n",
    "\n",
    "numbers = [4, 2, 1, 3]\n",
    "numbers.sort()\n",
    "print(numbers)\n",
    "\n",
    "hsu_buildings = ['만우관', '장공관', '필헌관', '소통관', '송암관', '늦봄관', '장준하통일관']\n",
    "hsu_buildings.sort()\n",
    "\n",
    "print(hsu_buildings)"
   ]
  },
  {
   "cell_type": "code",
   "execution_count": 39,
   "id": "e59ade36-4de9-408e-8755-00784110ef40",
   "metadata": {},
   "outputs": [
    {
     "data": {
      "text/plain": [
       "['손흥민', '이강인', '김민재', '황희찬']"
      ]
     },
     "execution_count": 39,
     "metadata": {},
     "output_type": "execute_result"
    }
   ],
   "source": [
    "players =['손흥민','이강인','김민재']\n",
    "players.append('황희찬')\n",
    "players"
   ]
  },
  {
   "cell_type": "code",
   "execution_count": 41,
   "id": "c640d45b-73b3-460d-b48a-a941edb3a48d",
   "metadata": {},
   "outputs": [
    {
     "data": {
      "text/plain": [
       "['손흥민', '이강인', '정우영', '김민재', '황희찬']"
      ]
     },
     "execution_count": 41,
     "metadata": {},
     "output_type": "execute_result"
    }
   ],
   "source": [
    "players.insert(2,'정우영')\n",
    "players"
   ]
  },
  {
   "cell_type": "code",
   "execution_count": 43,
   "id": "186d72ad-08f2-4c3f-afff-940e0a8559b6",
   "metadata": {},
   "outputs": [
    {
     "data": {
      "text/plain": [
       "['손흥민', '이강인', '김민재', '황희찬']"
      ]
     },
     "execution_count": 43,
     "metadata": {},
     "output_type": "execute_result"
    }
   ],
   "source": [
    "players.pop(2)  #숫자를 안적으면 마지막 위치를 삭제\n",
    "players"
   ]
  },
  {
   "cell_type": "code",
   "execution_count": 45,
   "id": "27115cab-971c-4ed7-be90-25cc9fe57391",
   "metadata": {},
   "outputs": [
    {
     "data": {
      "text/plain": [
       "['손흥민', '김민재', '황희찬']"
      ]
     },
     "execution_count": 45,
     "metadata": {},
     "output_type": "execute_result"
    }
   ],
   "source": [
    "players.remove('이강인')\n",
    "players"
   ]
  },
  {
   "cell_type": "code",
   "execution_count": 49,
   "id": "2d8738d9-37c8-4c0b-86ba-4606e7353142",
   "metadata": {},
   "outputs": [
    {
     "name": "stdout",
     "output_type": "stream",
     "text": [
      "[1, 2, 3, 4]\n"
     ]
    }
   ],
   "source": [
    "numbers = [4, 2, 1, 3]\n",
    "numbers.sort()\n",
    "print(numbers)"
   ]
  },
  {
   "cell_type": "code",
   "execution_count": 53,
   "id": "ea3d75fa-91fa-47f1-b227-3571ec36926b",
   "metadata": {},
   "outputs": [
    {
     "name": "stdout",
     "output_type": "stream",
     "text": [
      "['늦봄관', '만우관', '소통관', '송암관', '장공관', '장준하통일관', '필헌관']\n"
     ]
    }
   ],
   "source": [
    "hsu_buildings = ['만우관'\n",
    ", \n",
    "'장공관'\n",
    ", \n",
    "'필헌관'\n",
    ", \n",
    "'소통관'\n",
    ", \n",
    "'송암관'\n",
    ", \n",
    "'늦봄관'\n",
    ", \n",
    "'장준하통일관']\n",
    "hsu_buildings.sort()\n",
    "print(hsu_buildings)\n"
   ]
  },
  {
   "cell_type": "code",
   "execution_count": 55,
   "id": "e7a6d13e-b15f-454b-9218-361de92e422d",
   "metadata": {},
   "outputs": [],
   "source": [
    "numbers = [4, 2, 1, 3]"
   ]
  },
  {
   "cell_type": "code",
   "execution_count": 62,
   "id": "772319f0-59b7-437a-b82e-19f07fa66832",
   "metadata": {},
   "outputs": [
    {
     "name": "stdout",
     "output_type": "stream",
     "text": [
      "[4, 2, 1, 3]\n",
      "[1, 2, 3, 4]\n"
     ]
    }
   ],
   "source": [
    "sorted_numbers = sorted(numbers)\n",
    "print(numbers)\n",
    "print(sorted_numbers)"
   ]
  }
 ],
 "metadata": {
  "kernelspec": {
   "display_name": "anaconda-2022.05-py39",
   "language": "python",
   "name": "conda-env-anaconda-2022.05-py39-py"
  },
  "language_info": {
   "codemirror_mode": {
    "name": "ipython",
    "version": 3
   },
   "file_extension": ".py",
   "mimetype": "text/x-python",
   "name": "python",
   "nbconvert_exporter": "python",
   "pygments_lexer": "ipython3",
   "version": "3.9.12"
  }
 },
 "nbformat": 4,
 "nbformat_minor": 5
}
